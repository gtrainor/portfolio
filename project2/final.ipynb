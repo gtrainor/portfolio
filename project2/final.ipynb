{
 "cells": [
  {
   "cell_type": "markdown",
   "id": "abfa4114-52c7-4a92-9829-29f67de51d97",
   "metadata": {},
   "source": [
    "#Final submission\n",
    "\n",
    "My proposition is: White police officers are more likely to avoid accountability for crimes committed against Black individuals than any other group.\n",
    "\n",
    "\n",
    "are there more exonerated cases for white officers against black indivdiuals ? \"We also chose to include cases where an investigator found that what a civilian alleged did happen but the conduct was allowed by the NYPD’s rules. The Police Department’s guidelines often give officers substantial discretion, particularly around use of force. Those cases are classified as “exonerated.”\" \n",
    "(in writeup describe what i classify as accountability\n",
    "\n",
    "We encourage you to use whatever design choices you find produces the most persuasive visualization for each side of your proposition. You are welcome to not only use techniques we would usually consider to be earnest (e.g., effective and expressive encodings, transparently communicating data transformations, citing sources, etc.) but also those we might sometimes consider to be deceptive (e.g., violating conventions, skewed or slanted titles and labels, truncated scales and axes, filtering outliers, etc.). In doing so, you are likely to discover that there is not always a clear distinction between the two categories.\n",
    "\n",
    "- if you use any deception techniques, they should not be immediately obvious (including to the course staff!)\n",
    "needs:\n",
    "- a transformation on the data such as grouping, binning, calculated fields (which I feel as though i have done)\n",
    "- design choices need to be subtle + clear\n",
    "\n",
    "writeup stuff:\n",
    "\n",
    "Bullet point your design decisions and rationale. For each visualization, enumerate 3–5 design decisions you think are central to making the visualization persuasive (note, a “design” decision can also refer to decisions you made about data transformation or textual content). For each decision:\n",
    "\n",
    "Score, on a diverging scale from -2 to 2, how deceptive or earnest your decision is (where -2 is fully deceptive, 0 is neutral, and 2 is fully earnest). Only use a score of 0 if you are really unable to decide one way or another. You may use 0.5 steps as needed.\n",
    "\n",
    "Write a couple of sentences documenting your decision, with corresponding rationale/justification. How does this decision help make your visualization persuasive? What worked well, and what didn’t? What other alternatives did you consider, and why did you settle on this one?\n",
    "\n",
    "After documenting these decisions, write a 2–3 paragraph final reflection on your overall design process across both visualizations. What was straightforward or difficult? What surprised you? How do you now define “ethical analysis and visualization”? What bounds (if any) can you draw to distinguish “acceptable” persuasive choices vs. “misleading” ones (and if none, why not)?\n",
    "\n",
    "\n",
    "for fair look at the proportion of black individuals, like per capita stuff \n"
   ]
  },
  {
   "cell_type": "code",
   "execution_count": 102,
   "id": "8dfee107-6b02-4620-963a-4eecae990a5c",
   "metadata": {},
   "outputs": [
    {
     "data": {
      "text/html": [
       "<div>\n",
       "<style scoped>\n",
       "    .dataframe tbody tr th:only-of-type {\n",
       "        vertical-align: middle;\n",
       "    }\n",
       "\n",
       "    .dataframe tbody tr th {\n",
       "        vertical-align: top;\n",
       "    }\n",
       "\n",
       "    .dataframe thead th {\n",
       "        text-align: right;\n",
       "    }\n",
       "</style>\n",
       "<table border=\"1\" class=\"dataframe\">\n",
       "  <thead>\n",
       "    <tr style=\"text-align: right;\">\n",
       "      <th></th>\n",
       "      <th>unique_mos_id</th>\n",
       "      <th>first_name</th>\n",
       "      <th>last_name</th>\n",
       "      <th>command_now</th>\n",
       "      <th>shield_no</th>\n",
       "      <th>complaint_id</th>\n",
       "      <th>month_received</th>\n",
       "      <th>year_received</th>\n",
       "      <th>month_closed</th>\n",
       "      <th>year_closed</th>\n",
       "      <th>...</th>\n",
       "      <th>mos_age_incident</th>\n",
       "      <th>complainant_ethnicity</th>\n",
       "      <th>complainant_gender</th>\n",
       "      <th>complainant_age_incident</th>\n",
       "      <th>fado_type</th>\n",
       "      <th>allegation</th>\n",
       "      <th>precinct</th>\n",
       "      <th>contact_reason</th>\n",
       "      <th>outcome_description</th>\n",
       "      <th>board_disposition</th>\n",
       "    </tr>\n",
       "  </thead>\n",
       "  <tbody>\n",
       "    <tr>\n",
       "      <th>0</th>\n",
       "      <td>10004</td>\n",
       "      <td>Jonathan</td>\n",
       "      <td>Ruiz</td>\n",
       "      <td>078 PCT</td>\n",
       "      <td>8409</td>\n",
       "      <td>42835</td>\n",
       "      <td>7</td>\n",
       "      <td>2019</td>\n",
       "      <td>5</td>\n",
       "      <td>2020</td>\n",
       "      <td>...</td>\n",
       "      <td>32</td>\n",
       "      <td>Black</td>\n",
       "      <td>Female</td>\n",
       "      <td>38.0</td>\n",
       "      <td>Abuse of Authority</td>\n",
       "      <td>Failure to provide RTKA card</td>\n",
       "      <td>78.0</td>\n",
       "      <td>Report-domestic dispute</td>\n",
       "      <td>No arrest made or summons issued</td>\n",
       "      <td>Substantiated (Command Lvl Instructions)</td>\n",
       "    </tr>\n",
       "    <tr>\n",
       "      <th>1</th>\n",
       "      <td>10007</td>\n",
       "      <td>John</td>\n",
       "      <td>Sears</td>\n",
       "      <td>078 PCT</td>\n",
       "      <td>5952</td>\n",
       "      <td>24601</td>\n",
       "      <td>11</td>\n",
       "      <td>2011</td>\n",
       "      <td>8</td>\n",
       "      <td>2012</td>\n",
       "      <td>...</td>\n",
       "      <td>24</td>\n",
       "      <td>Black</td>\n",
       "      <td>Male</td>\n",
       "      <td>26.0</td>\n",
       "      <td>Discourtesy</td>\n",
       "      <td>Action</td>\n",
       "      <td>67.0</td>\n",
       "      <td>Moving violation</td>\n",
       "      <td>Moving violation summons issued</td>\n",
       "      <td>Substantiated (Charges)</td>\n",
       "    </tr>\n",
       "    <tr>\n",
       "      <th>2</th>\n",
       "      <td>10007</td>\n",
       "      <td>John</td>\n",
       "      <td>Sears</td>\n",
       "      <td>078 PCT</td>\n",
       "      <td>5952</td>\n",
       "      <td>24601</td>\n",
       "      <td>11</td>\n",
       "      <td>2011</td>\n",
       "      <td>8</td>\n",
       "      <td>2012</td>\n",
       "      <td>...</td>\n",
       "      <td>24</td>\n",
       "      <td>Black</td>\n",
       "      <td>Male</td>\n",
       "      <td>26.0</td>\n",
       "      <td>Offensive Language</td>\n",
       "      <td>Race</td>\n",
       "      <td>67.0</td>\n",
       "      <td>Moving violation</td>\n",
       "      <td>Moving violation summons issued</td>\n",
       "      <td>Substantiated (Charges)</td>\n",
       "    </tr>\n",
       "    <tr>\n",
       "      <th>3</th>\n",
       "      <td>10007</td>\n",
       "      <td>John</td>\n",
       "      <td>Sears</td>\n",
       "      <td>078 PCT</td>\n",
       "      <td>5952</td>\n",
       "      <td>26146</td>\n",
       "      <td>7</td>\n",
       "      <td>2012</td>\n",
       "      <td>9</td>\n",
       "      <td>2013</td>\n",
       "      <td>...</td>\n",
       "      <td>25</td>\n",
       "      <td>Black</td>\n",
       "      <td>Male</td>\n",
       "      <td>45.0</td>\n",
       "      <td>Abuse of Authority</td>\n",
       "      <td>Question</td>\n",
       "      <td>67.0</td>\n",
       "      <td>PD suspected C/V of violation/crime - street</td>\n",
       "      <td>No arrest made or summons issued</td>\n",
       "      <td>Substantiated (Charges)</td>\n",
       "    </tr>\n",
       "    <tr>\n",
       "      <th>4</th>\n",
       "      <td>10009</td>\n",
       "      <td>Noemi</td>\n",
       "      <td>Sierra</td>\n",
       "      <td>078 PCT</td>\n",
       "      <td>24058</td>\n",
       "      <td>40253</td>\n",
       "      <td>8</td>\n",
       "      <td>2018</td>\n",
       "      <td>2</td>\n",
       "      <td>2019</td>\n",
       "      <td>...</td>\n",
       "      <td>39</td>\n",
       "      <td>NaN</td>\n",
       "      <td>NaN</td>\n",
       "      <td>16.0</td>\n",
       "      <td>Force</td>\n",
       "      <td>Physical force</td>\n",
       "      <td>67.0</td>\n",
       "      <td>Report-dispute</td>\n",
       "      <td>Arrest - other violation/crime</td>\n",
       "      <td>Substantiated (Command Discipline A)</td>\n",
       "    </tr>\n",
       "    <tr>\n",
       "      <th>...</th>\n",
       "      <td>...</td>\n",
       "      <td>...</td>\n",
       "      <td>...</td>\n",
       "      <td>...</td>\n",
       "      <td>...</td>\n",
       "      <td>...</td>\n",
       "      <td>...</td>\n",
       "      <td>...</td>\n",
       "      <td>...</td>\n",
       "      <td>...</td>\n",
       "      <td>...</td>\n",
       "      <td>...</td>\n",
       "      <td>...</td>\n",
       "      <td>...</td>\n",
       "      <td>...</td>\n",
       "      <td>...</td>\n",
       "      <td>...</td>\n",
       "      <td>...</td>\n",
       "      <td>...</td>\n",
       "      <td>...</td>\n",
       "      <td>...</td>\n",
       "    </tr>\n",
       "    <tr>\n",
       "      <th>33353</th>\n",
       "      <td>9992</td>\n",
       "      <td>Tomasz</td>\n",
       "      <td>Pulawski</td>\n",
       "      <td>078 PCT</td>\n",
       "      <td>2642</td>\n",
       "      <td>35671</td>\n",
       "      <td>8</td>\n",
       "      <td>2016</td>\n",
       "      <td>2</td>\n",
       "      <td>2017</td>\n",
       "      <td>...</td>\n",
       "      <td>36</td>\n",
       "      <td>Asian</td>\n",
       "      <td>Male</td>\n",
       "      <td>21.0</td>\n",
       "      <td>Discourtesy</td>\n",
       "      <td>Word</td>\n",
       "      <td>66.0</td>\n",
       "      <td>Moving violation</td>\n",
       "      <td>Moving violation summons issued</td>\n",
       "      <td>Unsubstantiated</td>\n",
       "    </tr>\n",
       "    <tr>\n",
       "      <th>33354</th>\n",
       "      <td>9992</td>\n",
       "      <td>Tomasz</td>\n",
       "      <td>Pulawski</td>\n",
       "      <td>078 PCT</td>\n",
       "      <td>2642</td>\n",
       "      <td>35671</td>\n",
       "      <td>8</td>\n",
       "      <td>2016</td>\n",
       "      <td>2</td>\n",
       "      <td>2017</td>\n",
       "      <td>...</td>\n",
       "      <td>36</td>\n",
       "      <td>Asian</td>\n",
       "      <td>Male</td>\n",
       "      <td>21.0</td>\n",
       "      <td>Abuse of Authority</td>\n",
       "      <td>Interference with recording</td>\n",
       "      <td>66.0</td>\n",
       "      <td>Moving violation</td>\n",
       "      <td>Moving violation summons issued</td>\n",
       "      <td>Unsubstantiated</td>\n",
       "    </tr>\n",
       "    <tr>\n",
       "      <th>33355</th>\n",
       "      <td>9992</td>\n",
       "      <td>Tomasz</td>\n",
       "      <td>Pulawski</td>\n",
       "      <td>078 PCT</td>\n",
       "      <td>2642</td>\n",
       "      <td>35671</td>\n",
       "      <td>8</td>\n",
       "      <td>2016</td>\n",
       "      <td>2</td>\n",
       "      <td>2017</td>\n",
       "      <td>...</td>\n",
       "      <td>36</td>\n",
       "      <td>Asian</td>\n",
       "      <td>Male</td>\n",
       "      <td>21.0</td>\n",
       "      <td>Abuse of Authority</td>\n",
       "      <td>Search (of person)</td>\n",
       "      <td>66.0</td>\n",
       "      <td>Moving violation</td>\n",
       "      <td>Moving violation summons issued</td>\n",
       "      <td>Substantiated (Formalized Training)</td>\n",
       "    </tr>\n",
       "    <tr>\n",
       "      <th>33356</th>\n",
       "      <td>9992</td>\n",
       "      <td>Tomasz</td>\n",
       "      <td>Pulawski</td>\n",
       "      <td>078 PCT</td>\n",
       "      <td>2642</td>\n",
       "      <td>35671</td>\n",
       "      <td>8</td>\n",
       "      <td>2016</td>\n",
       "      <td>2</td>\n",
       "      <td>2017</td>\n",
       "      <td>...</td>\n",
       "      <td>36</td>\n",
       "      <td>Asian</td>\n",
       "      <td>Male</td>\n",
       "      <td>21.0</td>\n",
       "      <td>Abuse of Authority</td>\n",
       "      <td>Vehicle search</td>\n",
       "      <td>66.0</td>\n",
       "      <td>Moving violation</td>\n",
       "      <td>Moving violation summons issued</td>\n",
       "      <td>Substantiated (Formalized Training)</td>\n",
       "    </tr>\n",
       "    <tr>\n",
       "      <th>33357</th>\n",
       "      <td>9992</td>\n",
       "      <td>Tomasz</td>\n",
       "      <td>Pulawski</td>\n",
       "      <td>078 PCT</td>\n",
       "      <td>2642</td>\n",
       "      <td>35671</td>\n",
       "      <td>8</td>\n",
       "      <td>2016</td>\n",
       "      <td>2</td>\n",
       "      <td>2017</td>\n",
       "      <td>...</td>\n",
       "      <td>36</td>\n",
       "      <td>Asian</td>\n",
       "      <td>Male</td>\n",
       "      <td>21.0</td>\n",
       "      <td>Abuse of Authority</td>\n",
       "      <td>Frisk</td>\n",
       "      <td>66.0</td>\n",
       "      <td>Moving violation</td>\n",
       "      <td>Moving violation summons issued</td>\n",
       "      <td>Substantiated (Formalized Training)</td>\n",
       "    </tr>\n",
       "  </tbody>\n",
       "</table>\n",
       "<p>33358 rows × 27 columns</p>\n",
       "</div>"
      ],
      "text/plain": [
       "       unique_mos_id first_name last_name command_now  shield_no  \\\n",
       "0              10004   Jonathan      Ruiz     078 PCT       8409   \n",
       "1              10007       John     Sears     078 PCT       5952   \n",
       "2              10007       John     Sears     078 PCT       5952   \n",
       "3              10007       John     Sears     078 PCT       5952   \n",
       "4              10009      Noemi    Sierra     078 PCT      24058   \n",
       "...              ...        ...       ...         ...        ...   \n",
       "33353           9992     Tomasz  Pulawski     078 PCT       2642   \n",
       "33354           9992     Tomasz  Pulawski     078 PCT       2642   \n",
       "33355           9992     Tomasz  Pulawski     078 PCT       2642   \n",
       "33356           9992     Tomasz  Pulawski     078 PCT       2642   \n",
       "33357           9992     Tomasz  Pulawski     078 PCT       2642   \n",
       "\n",
       "       complaint_id  month_received  year_received  month_closed  year_closed  \\\n",
       "0             42835               7           2019             5         2020   \n",
       "1             24601              11           2011             8         2012   \n",
       "2             24601              11           2011             8         2012   \n",
       "3             26146               7           2012             9         2013   \n",
       "4             40253               8           2018             2         2019   \n",
       "...             ...             ...            ...           ...          ...   \n",
       "33353         35671               8           2016             2         2017   \n",
       "33354         35671               8           2016             2         2017   \n",
       "33355         35671               8           2016             2         2017   \n",
       "33356         35671               8           2016             2         2017   \n",
       "33357         35671               8           2016             2         2017   \n",
       "\n",
       "       ... mos_age_incident complainant_ethnicity complainant_gender  \\\n",
       "0      ...               32                 Black             Female   \n",
       "1      ...               24                 Black               Male   \n",
       "2      ...               24                 Black               Male   \n",
       "3      ...               25                 Black               Male   \n",
       "4      ...               39                   NaN                NaN   \n",
       "...    ...              ...                   ...                ...   \n",
       "33353  ...               36                 Asian               Male   \n",
       "33354  ...               36                 Asian               Male   \n",
       "33355  ...               36                 Asian               Male   \n",
       "33356  ...               36                 Asian               Male   \n",
       "33357  ...               36                 Asian               Male   \n",
       "\n",
       "      complainant_age_incident           fado_type  \\\n",
       "0                         38.0  Abuse of Authority   \n",
       "1                         26.0         Discourtesy   \n",
       "2                         26.0  Offensive Language   \n",
       "3                         45.0  Abuse of Authority   \n",
       "4                         16.0               Force   \n",
       "...                        ...                 ...   \n",
       "33353                     21.0         Discourtesy   \n",
       "33354                     21.0  Abuse of Authority   \n",
       "33355                     21.0  Abuse of Authority   \n",
       "33356                     21.0  Abuse of Authority   \n",
       "33357                     21.0  Abuse of Authority   \n",
       "\n",
       "                         allegation precinct  \\\n",
       "0      Failure to provide RTKA card     78.0   \n",
       "1                            Action     67.0   \n",
       "2                              Race     67.0   \n",
       "3                          Question     67.0   \n",
       "4                    Physical force     67.0   \n",
       "...                             ...      ...   \n",
       "33353                          Word     66.0   \n",
       "33354   Interference with recording     66.0   \n",
       "33355            Search (of person)     66.0   \n",
       "33356                Vehicle search     66.0   \n",
       "33357                         Frisk     66.0   \n",
       "\n",
       "                                     contact_reason  \\\n",
       "0                           Report-domestic dispute   \n",
       "1                                  Moving violation   \n",
       "2                                  Moving violation   \n",
       "3      PD suspected C/V of violation/crime - street   \n",
       "4                                    Report-dispute   \n",
       "...                                             ...   \n",
       "33353                              Moving violation   \n",
       "33354                              Moving violation   \n",
       "33355                              Moving violation   \n",
       "33356                              Moving violation   \n",
       "33357                              Moving violation   \n",
       "\n",
       "                    outcome_description  \\\n",
       "0      No arrest made or summons issued   \n",
       "1       Moving violation summons issued   \n",
       "2       Moving violation summons issued   \n",
       "3      No arrest made or summons issued   \n",
       "4        Arrest - other violation/crime   \n",
       "...                                 ...   \n",
       "33353   Moving violation summons issued   \n",
       "33354   Moving violation summons issued   \n",
       "33355   Moving violation summons issued   \n",
       "33356   Moving violation summons issued   \n",
       "33357   Moving violation summons issued   \n",
       "\n",
       "                              board_disposition  \n",
       "0      Substantiated (Command Lvl Instructions)  \n",
       "1                       Substantiated (Charges)  \n",
       "2                       Substantiated (Charges)  \n",
       "3                       Substantiated (Charges)  \n",
       "4          Substantiated (Command Discipline A)  \n",
       "...                                         ...  \n",
       "33353                           Unsubstantiated  \n",
       "33354                           Unsubstantiated  \n",
       "33355       Substantiated (Formalized Training)  \n",
       "33356       Substantiated (Formalized Training)  \n",
       "33357       Substantiated (Formalized Training)  \n",
       "\n",
       "[33358 rows x 27 columns]"
      ]
     },
     "execution_count": 102,
     "metadata": {},
     "output_type": "execute_result"
    }
   ],
   "source": [
    "import pandas as pd\n",
    "\n",
    "police_complaints = pd.read_csv('/Users/gracetrainor/Desktop/dsc106/project2/allegations.csv')\n",
    "police_complaints"
   ]
  },
  {
   "cell_type": "code",
   "execution_count": 103,
   "id": "7c12b88e-35a4-4518-9f2d-8aa8751a0d3f",
   "metadata": {},
   "outputs": [
    {
     "data": {
      "text/plain": [
       "unique_mos_id                  0\n",
       "first_name                     0\n",
       "last_name                      0\n",
       "command_now                    0\n",
       "shield_no                      0\n",
       "complaint_id                   0\n",
       "month_received                 0\n",
       "year_received                  0\n",
       "month_closed                   0\n",
       "year_closed                    0\n",
       "command_at_incident         1544\n",
       "rank_abbrev_incident           0\n",
       "rank_abbrev_now                0\n",
       "rank_now                       0\n",
       "rank_incident                  0\n",
       "mos_ethnicity                  0\n",
       "mos_gender                     0\n",
       "mos_age_incident               0\n",
       "complainant_ethnicity       4464\n",
       "complainant_gender          4195\n",
       "complainant_age_incident    4812\n",
       "fado_type                      0\n",
       "allegation                     1\n",
       "precinct                      24\n",
       "contact_reason               199\n",
       "outcome_description           56\n",
       "board_disposition              0\n",
       "dtype: int64"
      ]
     },
     "execution_count": 103,
     "metadata": {},
     "output_type": "execute_result"
    }
   ],
   "source": [
    "#looking for missing values\n",
    "police_complaints.isnull().sum()\n"
   ]
  },
  {
   "cell_type": "code",
   "execution_count": 104,
   "id": "3ad76d01-6a87-4f5b-8535-67c789b81a79",
   "metadata": {},
   "outputs": [],
   "source": [
    "deceitful_police = police_complaints.dropna() \n",
    "deceitful_police\n",
    "\n",
    "#look at the complaints per officer\n",
    "#deceitful_police['num_complaints'] = deceitful_police.groupby('unique_mos_id')['first_name'].count().reset_index()\n",
    "#deceitful_police\n",
    "\n",
    "temp = deceitful_police.groupby('unique_mos_id')['first_name'].count().reset_index().sort_values(by='first_name', ascending = False)[1:21]['unique_mos_id'].values\n",
    "\n",
    "deceitful_police = deceitful_police[deceitful_police['unique_mos_id'].isin(temp)]\n",
    "\n"
   ]
  },
  {
   "cell_type": "code",
   "execution_count": 337,
   "id": "68b3ad15-3af0-4a1e-927c-445bbad10c7c",
   "metadata": {},
   "outputs": [],
   "source": [
    "import pandas as pd\n",
    "import matplotlib.pyplot as plt\n",
    "import seaborn as sns\n",
    "\n",
    "# Filter only White officers and select specific victim races\n",
    "df = police_complaints.copy()\n",
    "df = df[df['mos_ethnicity'] == 'White']\n",
    "victim_races = ['Black', 'White', 'Asian', 'Hispanic', 'American Indian']\n",
    "df = df[df['complainant_ethnicity'].isin(victim_races)]\n",
    "\n",
    "# Collapse all substantiated outcomes\n",
    "df['board_disposition'] = df['board_disposition'].replace(\n",
    "    to_replace=r'^Substantiated.*$', value='Substantiated', regex=True\n",
    ")\n",
    "\n",
    "# Focus on 3 major categories\n",
    "focus_outcomes = ['Substantiated', 'Exonerated', 'Unsubstantiated']\n",
    "df = df[df['board_disposition'].isin(focus_outcomes)]\n",
    "\n",
    "# Create normalized percentage table\n",
    "stage_counts = df.groupby(['complainant_ethnicity', 'board_disposition']).size().unstack(fill_value=0)\n",
    "stage_percent = stage_counts.div(stage_counts.sum(axis=1), axis=0) * 100\n",
    "stage_percent = stage_percent[focus_outcomes]  # Ensure order\n"
   ]
  },
  {
   "cell_type": "code",
   "execution_count": 250,
   "id": "0a320425-3d2c-4f0e-85b9-8de86606ef44",
   "metadata": {},
   "outputs": [
    {
     "data": {
      "image/png": "[encoded data removed]",
      "text/plain": [
       "<Figure size 1000x600 with 1 Axes>"
      ]
     },
     "metadata": {},
     "output_type": "display_data"
    }
   ],
   "source": [
    "import matplotlib.pyplot as plt\n",
    "\n",
    "# Drop 'Unsubstantiated' from the data\n",
    "stage_percent_filtered = stage_percent.drop(columns='Unsubstantiated', errors='ignore')\n",
    "\n",
    "# Reorder columns to have 'Black' first\n",
    "columns_order = ['Black'] + [col for col in stage_percent_filtered.index if col != 'Black']\n",
    "stage_percent_ordered = stage_percent_filtered.loc[columns_order]\n",
    "\n",
    "# Transpose for plotting\n",
    "stage_percent_T = stage_percent_ordered.T\n",
    "\n",
    "# Define custom colors with Black bold and others muted\n",
    "race_colors = {\n",
    "    'Black': '#e31a1c',          # Bold red\n",
    "    'White': '#b2df8a',          # Soft green\n",
    "    'Hispanic': '#a6cee3',       # Light blue\n",
    "    'Asian': '#cab2d6',          # Light purple\n",
    "    'South Asian': '#fdbf6f',    # Soft orange\n",
    "    'Middle Eastern or North African': '#ffeda0',  # Pale yellow\n",
    "    'Native American': '#fdae61',  # Soft tan\n",
    "    'East Asian': '#c7e9b4',     # Pale green\n",
    "}\n",
    "\n",
    "# Match colors to reordered columns\n",
    "colors = [race_colors.get(race, '#cccccc') for race in stage_percent_ordered.index]\n",
    "\n",
    "# Plot grouped bar chart\n",
    "stage_percent_T.plot(kind='bar', figsize=(10, 6), color=colors)\n",
    "\n",
    "plt.suptitle(\"Same Complaints, Different Outcomes: The Role of Victim Race in Disciplinary Decisions\", fontsize=14, weight='bold')\n",
    "plt.title(\"Black victims receive the least accountability from White officers' actions, compared to other races\", fontsize=11)\n",
    "\n",
    "plt.ylabel(\"Percentage of Complaints\")\n",
    "plt.xlabel(\"Outcomes of Misconduct Allegations\")\n",
    "plt.ylim(20, 40)\n",
    "plt.legend(title=\"Victim Race\", labels=stage_percent_ordered.index, bbox_to_anchor=(1.05, 1), loc='upper left')\n",
    "plt.xticks(rotation=0)\n",
    "plt.grid(axis='y', linestyle='--', alpha=0.7)\n",
    "plt.tight_layout()\n",
    "plt.show()\n"
   ]
  },
  {
   "cell_type": "code",
   "execution_count": 245,
   "id": "7fb55e65-2abf-4214-a678-7bf40c4d4454",
   "metadata": {},
   "outputs": [
    {
     "data": {
      "image/png": "[encoded data removed]",
      "text/plain": [
       "<Figure size 1000x600 with 1 Axes>"
      ]
     },
     "metadata": {},
     "output_type": "display_data"
    }
   ],
   "source": [
    "import matplotlib.pyplot as plt\n",
    "\n",
    "# Drop 'Unsubstantiated' from the data\n",
    "stage_percent_filtered = stage_percent.drop(columns='Unsubstantiated', errors='ignore')\n",
    "\n",
    "# Transpose for plotting: x-axis = dispositions, bars = complainant races\n",
    "stage_percent_T = stage_percent_filtered.T\n",
    "\n",
    "# Plot grouped bar chart\n",
    "stage_percent_T.plot(kind='bar', figsize=(10, 6))\n",
    "\n",
    "plt.suptitle(\"Same Complaints, Different Outcomes: The Role of Victim Race in Disciplinary Decisions\", fontsize=14, weight='bold')\n",
    "plt.title(\"Black victims receive the least accountability from White officers, compared to other races\", fontsize=11)\n",
    "\n",
    "plt.ylabel(\"Percentage of Complaints\")\n",
    "plt.xlabel(\"Outcomes of Misconduct Allegations\")\n",
    "plt.ylim(20, 50)\n",
    "plt.legend(title=\"Victim Race\", bbox_to_anchor=(1.05, 1), loc='upper left')\n",
    "plt.xticks(rotation=0)\n",
    "plt.grid(axis='y', linestyle='--', alpha=0.7)\n",
    "plt.tight_layout()\n",
    "plt.show()\n"
   ]
  },
  {
   "cell_type": "code",
   "execution_count": 360,
   "id": "4cc4dbc1-cf7c-4959-97cc-f512e7a21d43",
   "metadata": {
    "scrolled": true
   },
   "outputs": [
    {
     "data": {
      "image/png": "[encoded data removed]",
      "text/plain": [
       "<Figure size 1000x600 with 1 Axes>"
      ]
     },
     "metadata": {},
     "output_type": "display_data"
    }
   ],
   "source": [
    "import matplotlib.pyplot as plt\n",
    "import numpy as np\n",
    "\n",
    "# Drop 'Unsubstantiated' from the data\n",
    "stage_percent_filtered = stage_percent.drop(columns='Unsubstantiated', errors='ignore')\n",
    "\n",
    "# Reorder to put 'Black' first\n",
    "columns_order = ['Black'] + [col for col in stage_percent_filtered.index if col != 'Black']\n",
    "stage_percent_ordered = stage_percent_filtered.loc[columns_order]\n",
    "\n",
    "# Transpose for grouped bar plotting\n",
    "stage_percent_T = stage_percent_ordered.T\n",
    "\n",
    "# Define custom colors with 'Black' stark and others muted\n",
    "race_colors = {\n",
    "    'Black': '#e31a1c',          # Bold red\n",
    "    'White': '#b2df8a',\n",
    "    'Hispanic': '#a6cee3',\n",
    "    'Asian': '#cab2d6',\n",
    "    'South Asian': '#fdbf6f',\n",
    "    'Middle Eastern or North African': '#ffeda0',\n",
    "    'Native American': '#fdae61',\n",
    "    'East Asian': '#c7e9b4',\n",
    "}\n",
    "colors = [race_colors.get(race, '#cccccc') for race in stage_percent_ordered.index]\n",
    "\n",
    "# Plot\n",
    "ax = stage_percent_T.plot(kind='bar', figsize=(10, 6), color=colors)\n",
    "\n",
    "plt.suptitle(\"Same Complaints, Different Outcomes: The Role of Victim Race in Disciplinary Decisions\", fontsize=14, weight='bold')\n",
    "plt.title(\"Black victims receive the least accountability from officers, compared to other races\", fontsize=11)\n",
    "\n",
    "plt.ylabel(\"Percentage of Complaints\")\n",
    "plt.xlabel(\"Outcomes of Misconduct Allegations\")\n",
    "plt.ylim(20, 45)\n",
    "plt.xticks(rotation=0)\n",
    "plt.grid(axis='y', linestyle='--', alpha=0.7)\n",
    "\n",
    "# Add smart text annotations above each 'Black' bar\n",
    "# Add smart text annotations above each 'Black' bar\n",
    "# Add smart annotated textboxes pointing to each Black bar\n",
    "# Get number of races and bar width\n",
    "n_races = len(stage_percent_ordered.index)\n",
    "bar_width = 0.8 / n_races  # matplotlib auto-uses ~0.8 total width per group\n",
    "\n",
    "# Index of 'Black' bar in each group\n",
    "black_pos = stage_percent_ordered.index.get_loc('Black')\n",
    "\n",
    "# Annotate each Black bar with an arrow\n",
    "for i, disposition in enumerate(stage_percent_T.index):\n",
    "    black_val = stage_percent_T.iloc[i, black_pos]\n",
    "    others = stage_percent_T.iloc[i, [j for j in range(n_races) if j != black_pos]]\n",
    "    avg_others = others.mean()\n",
    "\n",
    "    # Create text\n",
    "    if black_val == 0:\n",
    "        text = \"N/A\"\n",
    "    elif black_val > avg_others:\n",
    "        ratio = black_val / avg_others\n",
    "        text = f\"{ratio:.1f}x more\\nWhite officers absolved\"\n",
    "    else:\n",
    "        ratio = avg_others / black_val\n",
    "        text = f\"{ratio:.1f}x less\\nWhite officers found guilty\"\n",
    "\n",
    "    # Compute true x-position of the Black bar in group\n",
    "    x_pos = i - 0.3 + (black_pos + 0.5) * bar_width\n",
    "\n",
    "    # Annotate with arrow\n",
    "    ax.annotate(\n",
    "        text,\n",
    "        xy=(x_pos, black_val),            # arrow tip: top of Black bar\n",
    "        xytext=(x_pos, black_val + 3),    # text box position\n",
    "        ha='center',\n",
    "        fontsize=9,\n",
    "        fontweight='bold',\n",
    "        bbox=dict(facecolor='white', edgecolor='black', boxstyle='round,pad=0.3'),\n",
    "        arrowprops=dict(arrowstyle='->', lw=1.5, color='black')\n",
    "    )\n",
    "\n",
    "\n",
    "\n",
    "# Legend\n",
    "plt.legend(title=\"Victim Race\", labels=stage_percent_ordered.index, bbox_to_anchor=(1.05, 1), loc='upper left')\n",
    "plt.tight_layout()\n",
    "plt.show()\n",
    "\n",
    "#made red a stark color, changed the axis, added annotations, the title, deceptive with my annotations, transformations?  dropped certain ones"
   ]
  },
  {
   "cell_type": "code",
   "execution_count": 371,
   "id": "aee9584b-ae41-448b-85fd-57e696307b71",
   "metadata": {},
   "outputs": [
    {
     "data": {
      "application/vnd.plotly.v1+json": {
       "config": {
        "plotlyServerURL": "https://plot.ly"
       },
       "data": [
        {
         "hovertemplate": "Black<br>%{x}: %{y:.2f}%<extra></extra>",
         "marker": {
          "color": "#e31a1c"
         },
         "name": "Black",
         "type": "bar",
         "visible": true,
         "x": [
          "Substantiated",
          "Exonerated"
         ],
         "y": [
          23.43366778149387,
          29.375696767001113
         ]
        },
        {
         "hovertemplate": "American Indian<br>%{x}: %{y:.2f}%<extra></extra>",
         "marker": {
          "color": "#cccccc"
         },
         "name": "American Indian",
         "type": "bar",
         "visible": true,
         "x": [
          "Substantiated",
          "Exonerated"
         ],
         "y": [
          40,
          24
         ]
        },
        {
         "hovertemplate": "Asian<br>%{x}: %{y:.2f}%<extra></extra>",
         "marker": {
          "color": "#cab2d6"
         },
         "name": "Asian",
         "type": "bar",
         "visible": true,
         "x": [
          "Substantiated",
          "Exonerated"
         ],
         "y": [
          28.391167192429023,
          24.605678233438486
         ]
        },
        {
         "hovertemplate": "Hispanic<br>%{x}: %{y:.2f}%<extra></extra>",
         "marker": {
          "color": "#a6cee3"
         },
         "name": "Hispanic",
         "type": "bar",
         "visible": true,
         "x": [
          "Substantiated",
          "Exonerated"
         ],
         "y": [
          24.248927038626608,
          27.37584304107909
         ]
        },
        {
         "hovertemplate": "White<br>%{x}: %{y:.2f}%<extra></extra>",
         "marker": {
          "color": "#b2df8a"
         },
         "name": "White",
         "type": "bar",
         "visible": true,
         "x": [
          "Substantiated",
          "Exonerated"
         ],
         "y": [
          26.41165755919854,
          25.622343655130543
         ]
        }
       ],
       "layout": {
        "barmode": "group",
        "height": 600,
        "legend": {
         "title": {
          "text": "Victim Race"
         },
         "x": 1,
         "y": 1
        },
        "margin": {
         "b": 40,
         "l": 80,
         "r": 20,
         "t": 60
        },
        "template": {
         "data": {
          "bar": [
           {
            "error_x": {
             "color": "#2a3f5f"
            },
            "error_y": {
             "color": "#2a3f5f"
            },
            "marker": {
             "line": {
              "color": "white",
              "width": 0.5
             },
             "pattern": {
              "fillmode": "overlay",
              "size": 10,
              "solidity": 0.2
             }
            },
            "type": "bar"
           }
          ],
          "barpolar": [
           {
            "marker": {
             "line": {
              "color": "white",
              "width": 0.5
             },
             "pattern": {
              "fillmode": "overlay",
              "size": 10,
              "solidity": 0.2
             }
            },
            "type": "barpolar"
           }
          ],
          "carpet": [
           {
            "aaxis": {
             "endlinecolor": "#2a3f5f",
             "gridcolor": "#C8D4E3",
             "linecolor": "#C8D4E3",
             "minorgridcolor": "#C8D4E3",
             "startlinecolor": "#2a3f5f"
            },
            "baxis": {
             "endlinecolor": "#2a3f5f",
             "gridcolor": "#C8D4E3",
             "linecolor": "#C8D4E3",
             "minorgridcolor": "#C8D4E3",
             "startlinecolor": "#2a3f5f"
            },
            "type": "carpet"
           }
          ],
          "choropleth": [
           {
            "colorbar": {
             "outlinewidth": 0,
             "ticks": ""
            },
            "type": "choropleth"
           }
          ],
          "contour": [
           {
            "colorbar": {
             "outlinewidth": 0,
             "ticks": ""
            },
            "colorscale": [
             [
              0,
              "#0d0887"
             ],
             [
              0.1111111111111111,
              "#46039f"
             ],
             [
              0.2222222222222222,
              "#7201a8"
             ],
             [
              0.3333333333333333,
              "#9c179e"
             ],
             [
              0.4444444444444444,
              "#bd3786"
             ],
             [
              0.5555555555555556,
              "#d8576b"
             ],
             [
              0.6666666666666666,
              "#ed7953"
             ],
             [
              0.7777777777777778,
              "#fb9f3a"
             ],
             [
              0.8888888888888888,
              "#fdca26"
             ],
             [
              1,
              "#f0f921"
             ]
            ],
            "type": "contour"
           }
          ],
          "contourcarpet": [
           {
            "colorbar": {
             "outlinewidth": 0,
             "ticks": ""
            },
            "type": "contourcarpet"
           }
          ],
          "heatmap": [
           {
            "colorbar": {
             "outlinewidth": 0,
             "ticks": ""
            },
            "colorscale": [
             [
              0,
              "#0d0887"
             ],
             [
              0.1111111111111111,
              "#46039f"
             ],
             [
              0.2222222222222222,
              "#7201a8"
             ],
             [
              0.3333333333333333,
              "#9c179e"
             ],
             [
              0.4444444444444444,
              "#bd3786"
             ],
             [
              0.5555555555555556,
              "#d8576b"
             ],
             [
              0.6666666666666666,
              "#ed7953"
             ],
             [
              0.7777777777777778,
              "#fb9f3a"
             ],
             [
              0.8888888888888888,
              "#fdca26"
             ],
             [
              1,
              "#f0f921"
             ]
            ],
            "type": "heatmap"
           }
          ],
          "heatmapgl": [
           {
            "colorbar": {
             "outlinewidth": 0,
             "ticks": ""
            },
            "colorscale": [
             [
              0,
              "#0d0887"
             ],
             [
              0.1111111111111111,
              "#46039f"
             ],
             [
              0.2222222222222222,
              "#7201a8"
             ],
             [
              0.3333333333333333,
              "#9c179e"
             ],
             [
              0.4444444444444444,
              "#bd3786"
             ],
             [
              0.5555555555555556,
              "#d8576b"
             ],
             [
              0.6666666666666666,
              "#ed7953"
             ],
             [
              0.7777777777777778,
              "#fb9f3a"
             ],
             [
              0.8888888888888888,
              "#fdca26"
             ],
             [
              1,
              "#f0f921"
             ]
            ],
            "type": "heatmapgl"
           }
          ],
          "histogram": [
           {
            "marker": {
             "pattern": {
              "fillmode": "overlay",
              "size": 10,
              "solidity": 0.2
             }
            },
            "type": "histogram"
           }
          ],
          "histogram2d": [
           {
            "colorbar": {
             "outlinewidth": 0,
             "ticks": ""
            },
            "colorscale": [
             [
              0,
              "#0d0887"
             ],
             [
              0.1111111111111111,
              "#46039f"
             ],
             [
              0.2222222222222222,
              "#7201a8"
             ],
             [
              0.3333333333333333,
              "#9c179e"
             ],
             [
              0.4444444444444444,
              "#bd3786"
             ],
             [
              0.5555555555555556,
              "#d8576b"
             ],
             [
              0.6666666666666666,
              "#ed7953"
             ],
             [
              0.7777777777777778,
              "#fb9f3a"
             ],
             [
              0.8888888888888888,
              "#fdca26"
             ],
             [
              1,
              "#f0f921"
             ]
            ],
            "type": "histogram2d"
           }
          ],
          "histogram2dcontour": [
           {
            "colorbar": {
             "outlinewidth": 0,
             "ticks": ""
            },
            "colorscale": [
             [
              0,
              "#0d0887"
             ],
             [
              0.1111111111111111,
              "#46039f"
             ],
             [
              0.2222222222222222,
              "#7201a8"
             ],
             [
              0.3333333333333333,
              "#9c179e"
             ],
             [
              0.4444444444444444,
              "#bd3786"
             ],
             [
              0.5555555555555556,
              "#d8576b"
             ],
             [
              0.6666666666666666,
              "#ed7953"
             ],
             [
              0.7777777777777778,
              "#fb9f3a"
             ],
             [
              0.8888888888888888,
              "#fdca26"
             ],
             [
              1,
              "#f0f921"
             ]
            ],
            "type": "histogram2dcontour"
           }
          ],
          "mesh3d": [
           {
            "colorbar": {
             "outlinewidth": 0,
             "ticks": ""
            },
            "type": "mesh3d"
           }
          ],
          "parcoords": [
           {
            "line": {
             "colorbar": {
              "outlinewidth": 0,
              "ticks": ""
             }
            },
            "type": "parcoords"
           }
          ],
          "pie": [
           {
            "automargin": true,
            "type": "pie"
           }
          ],
          "scatter": [
           {
            "fillpattern": {
             "fillmode": "overlay",
             "size": 10,
             "solidity": 0.2
            },
            "type": "scatter"
           }
          ],
          "scatter3d": [
           {
            "line": {
             "colorbar": {
              "outlinewidth": 0,
              "ticks": ""
             }
            },
            "marker": {
             "colorbar": {
              "outlinewidth": 0,
              "ticks": ""
             }
            },
            "type": "scatter3d"
           }
          ],
          "scattercarpet": [
           {
            "marker": {
             "colorbar": {
              "outlinewidth": 0,
              "ticks": ""
             }
            },
            "type": "scattercarpet"
           }
          ],
          "scattergeo": [
           {
            "marker": {
             "colorbar": {
              "outlinewidth": 0,
              "ticks": ""
             }
            },
            "type": "scattergeo"
           }
          ],
          "scattergl": [
           {
            "marker": {
             "colorbar": {
              "outlinewidth": 0,
              "ticks": ""
             }
            },
            "type": "scattergl"
           }
          ],
          "scattermapbox": [
           {
            "marker": {
             "colorbar": {
              "outlinewidth": 0,
              "ticks": ""
             }
            },
            "type": "scattermapbox"
           }
          ],
          "scatterpolar": [
           {
            "marker": {
             "colorbar": {
              "outlinewidth": 0,
              "ticks": ""
             }
            },
            "type": "scatterpolar"
           }
          ],
          "scatterpolargl": [
           {
            "marker": {
             "colorbar": {
              "outlinewidth": 0,
              "ticks": ""
             }
            },
            "type": "scatterpolargl"
           }
          ],
          "scatterternary": [
           {
            "marker": {
             "colorbar": {
              "outlinewidth": 0,
              "ticks": ""
             }
            },
            "type": "scatterternary"
           }
          ],
          "surface": [
           {
            "colorbar": {
             "outlinewidth": 0,
             "ticks": ""
            },
            "colorscale": [
             [
              0,
              "#0d0887"
             ],
             [
              0.1111111111111111,
              "#46039f"
             ],
             [
              0.2222222222222222,
              "#7201a8"
             ],
             [
              0.3333333333333333,
              "#9c179e"
             ],
             [
              0.4444444444444444,
              "#bd3786"
             ],
             [
              0.5555555555555556,
              "#d8576b"
             ],
             [
              0.6666666666666666,
              "#ed7953"
             ],
             [
              0.7777777777777778,
              "#fb9f3a"
             ],
             [
              0.8888888888888888,
              "#fdca26"
             ],
             [
              1,
              "#f0f921"
             ]
            ],
            "type": "surface"
           }
          ],
          "table": [
           {
            "cells": {
             "fill": {
              "color": "#EBF0F8"
             },
             "line": {
              "color": "white"
             }
            },
            "header": {
             "fill": {
              "color": "#C8D4E3"
             },
             "line": {
              "color": "white"
             }
            },
            "type": "table"
           }
          ]
         },
         "layout": {
          "annotationdefaults": {
           "arrowcolor": "#2a3f5f",
           "arrowhead": 0,
           "arrowwidth": 1
          },
          "autotypenumbers": "strict",
          "coloraxis": {
           "colorbar": {
            "outlinewidth": 0,
            "ticks": ""
           }
          },
          "colorscale": {
           "diverging": [
            [
             0,
             "#8e0152"
            ],
            [
             0.1,
             "#c51b7d"
            ],
            [
             0.2,
             "#de77ae"
            ],
            [
             0.3,
             "#f1b6da"
            ],
            [
             0.4,
             "#fde0ef"
            ],
            [
             0.5,
             "#f7f7f7"
            ],
            [
             0.6,
             "#e6f5d0"
            ],
            [
             0.7,
             "#b8e186"
            ],
            [
             0.8,
             "#7fbc41"
            ],
            [
             0.9,
             "#4d9221"
            ],
            [
             1,
             "#276419"
            ]
           ],
           "sequential": [
            [
             0,
             "#0d0887"
            ],
            [
             0.1111111111111111,
             "#46039f"
            ],
            [
             0.2222222222222222,
             "#7201a8"
            ],
            [
             0.3333333333333333,
             "#9c179e"
            ],
            [
             0.4444444444444444,
             "#bd3786"
            ],
            [
             0.5555555555555556,
             "#d8576b"
            ],
            [
             0.6666666666666666,
             "#ed7953"
            ],
            [
             0.7777777777777778,
             "#fb9f3a"
            ],
            [
             0.8888888888888888,
             "#fdca26"
            ],
            [
             1,
             "#f0f921"
            ]
           ],
           "sequentialminus": [
            [
             0,
             "#0d0887"
            ],
            [
             0.1111111111111111,
             "#46039f"
            ],
            [
             0.2222222222222222,
             "#7201a8"
            ],
            [
             0.3333333333333333,
             "#9c179e"
            ],
            [
             0.4444444444444444,
             "#bd3786"
            ],
            [
             0.5555555555555556,
             "#d8576b"
            ],
            [
             0.6666666666666666,
             "#ed7953"
            ],
            [
             0.7777777777777778,
             "#fb9f3a"
            ],
            [
             0.8888888888888888,
             "#fdca26"
            ],
            [
             1,
             "#f0f921"
            ]
           ]
          },
          "colorway": [
           "#636efa",
           "#EF553B",
           "#00cc96",
           "#ab63fa",
           "#FFA15A",
           "#19d3f3",
           "#FF6692",
           "#B6E880",
           "#FF97FF",
           "#FECB52"
          ],
          "font": {
           "color": "#2a3f5f"
          },
          "geo": {
           "bgcolor": "white",
           "lakecolor": "white",
           "landcolor": "white",
           "showlakes": true,
           "showland": true,
           "subunitcolor": "#C8D4E3"
          },
          "hoverlabel": {
           "align": "left"
          },
          "hovermode": "closest",
          "mapbox": {
           "style": "light"
          },
          "paper_bgcolor": "white",
          "plot_bgcolor": "white",
          "polar": {
           "angularaxis": {
            "gridcolor": "#EBF0F8",
            "linecolor": "#EBF0F8",
            "ticks": ""
           },
           "bgcolor": "white",
           "radialaxis": {
            "gridcolor": "#EBF0F8",
            "linecolor": "#EBF0F8",
            "ticks": ""
           }
          },
          "scene": {
           "xaxis": {
            "backgroundcolor": "white",
            "gridcolor": "#DFE8F3",
            "gridwidth": 2,
            "linecolor": "#EBF0F8",
            "showbackground": true,
            "ticks": "",
            "zerolinecolor": "#EBF0F8"
           },
           "yaxis": {
            "backgroundcolor": "white",
            "gridcolor": "#DFE8F3",
            "gridwidth": 2,
            "linecolor": "#EBF0F8",
            "showbackground": true,
            "ticks": "",
            "zerolinecolor": "#EBF0F8"
           },
           "zaxis": {
            "backgroundcolor": "white",
            "gridcolor": "#DFE8F3",
            "gridwidth": 2,
            "linecolor": "#EBF0F8",
            "showbackground": true,
            "ticks": "",
            "zerolinecolor": "#EBF0F8"
           }
          },
          "shapedefaults": {
           "line": {
            "color": "#2a3f5f"
           }
          },
          "ternary": {
           "aaxis": {
            "gridcolor": "#DFE8F3",
            "linecolor": "#A2B1C6",
            "ticks": ""
           },
           "baxis": {
            "gridcolor": "#DFE8F3",
            "linecolor": "#A2B1C6",
            "ticks": ""
           },
           "bgcolor": "white",
           "caxis": {
            "gridcolor": "#DFE8F3",
            "linecolor": "#A2B1C6",
            "ticks": ""
           }
          },
          "title": {
           "x": 0.05
          },
          "xaxis": {
           "automargin": true,
           "gridcolor": "#EBF0F8",
           "linecolor": "#EBF0F8",
           "ticks": "",
           "title": {
            "standoff": 15
           },
           "zerolinecolor": "#EBF0F8",
           "zerolinewidth": 2
          },
          "yaxis": {
           "automargin": true,
           "gridcolor": "#EBF0F8",
           "linecolor": "#EBF0F8",
           "ticks": "",
           "title": {
            "standoff": 15
           },
           "zerolinecolor": "#EBF0F8",
           "zerolinewidth": 2
          }
         }
        },
        "title": {
         "text": "Same Complaints, Different Outcomes: The Role of Victim Race in Disciplinary Decisions<br><sup>Black victims receive the least accountability from officers, compared to other races</sup>",
         "x": 0.5,
         "xanchor": "center"
        },
        "xaxis": {
         "title": {
          "text": "Outcomes of Misconduct Allegations"
         }
        },
        "yaxis": {
         "range": [
          20,
          45
         ],
         "title": {
          "text": "Percentage of Complaints"
         }
        }
       }
      },
      "image/png": "[encoded data removed]",
      "text/html": [
       "<div>                            <div id=\"4d9d3eb0-c778-49b1-9c3d-7cf6edb4d156\" class=\"plotly-graph-div\" style=\"height:600px; width:100%;\"></div>            <script type=\"text/javascript\">                require([\"plotly\"], function(Plotly) {                    window.PLOTLYENV=window.PLOTLYENV || {};                                    if (document.getElementById(\"4d9d3eb0-c778-49b1-9c3d-7cf6edb4d156\")) {                    Plotly.newPlot(                        \"4d9d3eb0-c778-49b1-9c3d-7cf6edb4d156\",                        [{\"hovertemplate\":\"Black\\u003cbr\\u003e%{x}: %{y:.2f}%\\u003cextra\\u003e\\u003c\\u002fextra\\u003e\",\"marker\":{\"color\":\"#e31a1c\"},\"name\":\"Black\",\"visible\":true,\"x\":[\"Substantiated\",\"Exonerated\"],\"y\":[23.43366778149387,29.375696767001113],\"type\":\"bar\"},{\"hovertemplate\":\"American Indian\\u003cbr\\u003e%{x}: %{y:.2f}%\\u003cextra\\u003e\\u003c\\u002fextra\\u003e\",\"marker\":{\"color\":\"#cccccc\"},\"name\":\"American Indian\",\"visible\":true,\"x\":[\"Substantiated\",\"Exonerated\"],\"y\":[40.0,24.0],\"type\":\"bar\"},{\"hovertemplate\":\"Asian\\u003cbr\\u003e%{x}: %{y:.2f}%\\u003cextra\\u003e\\u003c\\u002fextra\\u003e\",\"marker\":{\"color\":\"#cab2d6\"},\"name\":\"Asian\",\"visible\":true,\"x\":[\"Substantiated\",\"Exonerated\"],\"y\":[28.391167192429023,24.605678233438486],\"type\":\"bar\"},{\"hovertemplate\":\"Hispanic\\u003cbr\\u003e%{x}: %{y:.2f}%\\u003cextra\\u003e\\u003c\\u002fextra\\u003e\",\"marker\":{\"color\":\"#a6cee3\"},\"name\":\"Hispanic\",\"visible\":true,\"x\":[\"Substantiated\",\"Exonerated\"],\"y\":[24.248927038626608,27.37584304107909],\"type\":\"bar\"},{\"hovertemplate\":\"White\\u003cbr\\u003e%{x}: %{y:.2f}%\\u003cextra\\u003e\\u003c\\u002fextra\\u003e\",\"marker\":{\"color\":\"#b2df8a\"},\"name\":\"White\",\"visible\":true,\"x\":[\"Substantiated\",\"Exonerated\"],\"y\":[26.41165755919854,25.622343655130543],\"type\":\"bar\"}],                        {\"template\":{\"data\":{\"barpolar\":[{\"marker\":{\"line\":{\"color\":\"white\",\"width\":0.5},\"pattern\":{\"fillmode\":\"overlay\",\"size\":10,\"solidity\":0.2}},\"type\":\"barpolar\"}],\"bar\":[{\"error_x\":{\"color\":\"#2a3f5f\"},\"error_y\":{\"color\":\"#2a3f5f\"},\"marker\":{\"line\":{\"color\":\"white\",\"width\":0.5},\"pattern\":{\"fillmode\":\"overlay\",\"size\":10,\"solidity\":0.2}},\"type\":\"bar\"}],\"carpet\":[{\"aaxis\":{\"endlinecolor\":\"#2a3f5f\",\"gridcolor\":\"#C8D4E3\",\"linecolor\":\"#C8D4E3\",\"minorgridcolor\":\"#C8D4E3\",\"startlinecolor\":\"#2a3f5f\"},\"baxis\":{\"endlinecolor\":\"#2a3f5f\",\"gridcolor\":\"#C8D4E3\",\"linecolor\":\"#C8D4E3\",\"minorgridcolor\":\"#C8D4E3\",\"startlinecolor\":\"#2a3f5f\"},\"type\":\"carpet\"}],\"choropleth\":[{\"colorbar\":{\"outlinewidth\":0,\"ticks\":\"\"},\"type\":\"choropleth\"}],\"contourcarpet\":[{\"colorbar\":{\"outlinewidth\":0,\"ticks\":\"\"},\"type\":\"contourcarpet\"}],\"contour\":[{\"colorbar\":{\"outlinewidth\":0,\"ticks\":\"\"},\"colorscale\":[[0.0,\"#0d0887\"],[0.1111111111111111,\"#46039f\"],[0.2222222222222222,\"#7201a8\"],[0.3333333333333333,\"#9c179e\"],[0.4444444444444444,\"#bd3786\"],[0.5555555555555556,\"#d8576b\"],[0.6666666666666666,\"#ed7953\"],[0.7777777777777778,\"#fb9f3a\"],[0.8888888888888888,\"#fdca26\"],[1.0,\"#f0f921\"]],\"type\":\"contour\"}],\"heatmapgl\":[{\"colorbar\":{\"outlinewidth\":0,\"ticks\":\"\"},\"colorscale\":[[0.0,\"#0d0887\"],[0.1111111111111111,\"#46039f\"],[0.2222222222222222,\"#7201a8\"],[0.3333333333333333,\"#9c179e\"],[0.4444444444444444,\"#bd3786\"],[0.5555555555555556,\"#d8576b\"],[0.6666666666666666,\"#ed7953\"],[0.7777777777777778,\"#fb9f3a\"],[0.8888888888888888,\"#fdca26\"],[1.0,\"#f0f921\"]],\"type\":\"heatmapgl\"}],\"heatmap\":[{\"colorbar\":{\"outlinewidth\":0,\"ticks\":\"\"},\"colorscale\":[[0.0,\"#0d0887\"],[0.1111111111111111,\"#46039f\"],[0.2222222222222222,\"#7201a8\"],[0.3333333333333333,\"#9c179e\"],[0.4444444444444444,\"#bd3786\"],[0.5555555555555556,\"#d8576b\"],[0.6666666666666666,\"#ed7953\"],[0.7777777777777778,\"#fb9f3a\"],[0.8888888888888888,\"#fdca26\"],[1.0,\"#f0f921\"]],\"type\":\"heatmap\"}],\"histogram2dcontour\":[{\"colorbar\":{\"outlinewidth\":0,\"ticks\":\"\"},\"colorscale\":[[0.0,\"#0d0887\"],[0.1111111111111111,\"#46039f\"],[0.2222222222222222,\"#7201a8\"],[0.3333333333333333,\"#9c179e\"],[0.4444444444444444,\"#bd3786\"],[0.5555555555555556,\"#d8576b\"],[0.6666666666666666,\"#ed7953\"],[0.7777777777777778,\"#fb9f3a\"],[0.8888888888888888,\"#fdca26\"],[1.0,\"#f0f921\"]],\"type\":\"histogram2dcontour\"}],\"histogram2d\":[{\"colorbar\":{\"outlinewidth\":0,\"ticks\":\"\"},\"colorscale\":[[0.0,\"#0d0887\"],[0.1111111111111111,\"#46039f\"],[0.2222222222222222,\"#7201a8\"],[0.3333333333333333,\"#9c179e\"],[0.4444444444444444,\"#bd3786\"],[0.5555555555555556,\"#d8576b\"],[0.6666666666666666,\"#ed7953\"],[0.7777777777777778,\"#fb9f3a\"],[0.8888888888888888,\"#fdca26\"],[1.0,\"#f0f921\"]],\"type\":\"histogram2d\"}],\"histogram\":[{\"marker\":{\"pattern\":{\"fillmode\":\"overlay\",\"size\":10,\"solidity\":0.2}},\"type\":\"histogram\"}],\"mesh3d\":[{\"colorbar\":{\"outlinewidth\":0,\"ticks\":\"\"},\"type\":\"mesh3d\"}],\"parcoords\":[{\"line\":{\"colorbar\":{\"outlinewidth\":0,\"ticks\":\"\"}},\"type\":\"parcoords\"}],\"pie\":[{\"automargin\":true,\"type\":\"pie\"}],\"scatter3d\":[{\"line\":{\"colorbar\":{\"outlinewidth\":0,\"ticks\":\"\"}},\"marker\":{\"colorbar\":{\"outlinewidth\":0,\"ticks\":\"\"}},\"type\":\"scatter3d\"}],\"scattercarpet\":[{\"marker\":{\"colorbar\":{\"outlinewidth\":0,\"ticks\":\"\"}},\"type\":\"scattercarpet\"}],\"scattergeo\":[{\"marker\":{\"colorbar\":{\"outlinewidth\":0,\"ticks\":\"\"}},\"type\":\"scattergeo\"}],\"scattergl\":[{\"marker\":{\"colorbar\":{\"outlinewidth\":0,\"ticks\":\"\"}},\"type\":\"scattergl\"}],\"scattermapbox\":[{\"marker\":{\"colorbar\":{\"outlinewidth\":0,\"ticks\":\"\"}},\"type\":\"scattermapbox\"}],\"scatterpolargl\":[{\"marker\":{\"colorbar\":{\"outlinewidth\":0,\"ticks\":\"\"}},\"type\":\"scatterpolargl\"}],\"scatterpolar\":[{\"marker\":{\"colorbar\":{\"outlinewidth\":0,\"ticks\":\"\"}},\"type\":\"scatterpolar\"}],\"scatter\":[{\"fillpattern\":{\"fillmode\":\"overlay\",\"size\":10,\"solidity\":0.2},\"type\":\"scatter\"}],\"scatterternary\":[{\"marker\":{\"colorbar\":{\"outlinewidth\":0,\"ticks\":\"\"}},\"type\":\"scatterternary\"}],\"surface\":[{\"colorbar\":{\"outlinewidth\":0,\"ticks\":\"\"},\"colorscale\":[[0.0,\"#0d0887\"],[0.1111111111111111,\"#46039f\"],[0.2222222222222222,\"#7201a8\"],[0.3333333333333333,\"#9c179e\"],[0.4444444444444444,\"#bd3786\"],[0.5555555555555556,\"#d8576b\"],[0.6666666666666666,\"#ed7953\"],[0.7777777777777778,\"#fb9f3a\"],[0.8888888888888888,\"#fdca26\"],[1.0,\"#f0f921\"]],\"type\":\"surface\"}],\"table\":[{\"cells\":{\"fill\":{\"color\":\"#EBF0F8\"},\"line\":{\"color\":\"white\"}},\"header\":{\"fill\":{\"color\":\"#C8D4E3\"},\"line\":{\"color\":\"white\"}},\"type\":\"table\"}]},\"layout\":{\"annotationdefaults\":{\"arrowcolor\":\"#2a3f5f\",\"arrowhead\":0,\"arrowwidth\":1},\"autotypenumbers\":\"strict\",\"coloraxis\":{\"colorbar\":{\"outlinewidth\":0,\"ticks\":\"\"}},\"colorscale\":{\"diverging\":[[0,\"#8e0152\"],[0.1,\"#c51b7d\"],[0.2,\"#de77ae\"],[0.3,\"#f1b6da\"],[0.4,\"#fde0ef\"],[0.5,\"#f7f7f7\"],[0.6,\"#e6f5d0\"],[0.7,\"#b8e186\"],[0.8,\"#7fbc41\"],[0.9,\"#4d9221\"],[1,\"#276419\"]],\"sequential\":[[0.0,\"#0d0887\"],[0.1111111111111111,\"#46039f\"],[0.2222222222222222,\"#7201a8\"],[0.3333333333333333,\"#9c179e\"],[0.4444444444444444,\"#bd3786\"],[0.5555555555555556,\"#d8576b\"],[0.6666666666666666,\"#ed7953\"],[0.7777777777777778,\"#fb9f3a\"],[0.8888888888888888,\"#fdca26\"],[1.0,\"#f0f921\"]],\"sequentialminus\":[[0.0,\"#0d0887\"],[0.1111111111111111,\"#46039f\"],[0.2222222222222222,\"#7201a8\"],[0.3333333333333333,\"#9c179e\"],[0.4444444444444444,\"#bd3786\"],[0.5555555555555556,\"#d8576b\"],[0.6666666666666666,\"#ed7953\"],[0.7777777777777778,\"#fb9f3a\"],[0.8888888888888888,\"#fdca26\"],[1.0,\"#f0f921\"]]},\"colorway\":[\"#636efa\",\"#EF553B\",\"#00cc96\",\"#ab63fa\",\"#FFA15A\",\"#19d3f3\",\"#FF6692\",\"#B6E880\",\"#FF97FF\",\"#FECB52\"],\"font\":{\"color\":\"#2a3f5f\"},\"geo\":{\"bgcolor\":\"white\",\"lakecolor\":\"white\",\"landcolor\":\"white\",\"showlakes\":true,\"showland\":true,\"subunitcolor\":\"#C8D4E3\"},\"hoverlabel\":{\"align\":\"left\"},\"hovermode\":\"closest\",\"mapbox\":{\"style\":\"light\"},\"paper_bgcolor\":\"white\",\"plot_bgcolor\":\"white\",\"polar\":{\"angularaxis\":{\"gridcolor\":\"#EBF0F8\",\"linecolor\":\"#EBF0F8\",\"ticks\":\"\"},\"bgcolor\":\"white\",\"radialaxis\":{\"gridcolor\":\"#EBF0F8\",\"linecolor\":\"#EBF0F8\",\"ticks\":\"\"}},\"scene\":{\"xaxis\":{\"backgroundcolor\":\"white\",\"gridcolor\":\"#DFE8F3\",\"gridwidth\":2,\"linecolor\":\"#EBF0F8\",\"showbackground\":true,\"ticks\":\"\",\"zerolinecolor\":\"#EBF0F8\"},\"yaxis\":{\"backgroundcolor\":\"white\",\"gridcolor\":\"#DFE8F3\",\"gridwidth\":2,\"linecolor\":\"#EBF0F8\",\"showbackground\":true,\"ticks\":\"\",\"zerolinecolor\":\"#EBF0F8\"},\"zaxis\":{\"backgroundcolor\":\"white\",\"gridcolor\":\"#DFE8F3\",\"gridwidth\":2,\"linecolor\":\"#EBF0F8\",\"showbackground\":true,\"ticks\":\"\",\"zerolinecolor\":\"#EBF0F8\"}},\"shapedefaults\":{\"line\":{\"color\":\"#2a3f5f\"}},\"ternary\":{\"aaxis\":{\"gridcolor\":\"#DFE8F3\",\"linecolor\":\"#A2B1C6\",\"ticks\":\"\"},\"baxis\":{\"gridcolor\":\"#DFE8F3\",\"linecolor\":\"#A2B1C6\",\"ticks\":\"\"},\"bgcolor\":\"white\",\"caxis\":{\"gridcolor\":\"#DFE8F3\",\"linecolor\":\"#A2B1C6\",\"ticks\":\"\"}},\"title\":{\"x\":0.05},\"xaxis\":{\"automargin\":true,\"gridcolor\":\"#EBF0F8\",\"linecolor\":\"#EBF0F8\",\"ticks\":\"\",\"title\":{\"standoff\":15},\"zerolinecolor\":\"#EBF0F8\",\"zerolinewidth\":2},\"yaxis\":{\"automargin\":true,\"gridcolor\":\"#EBF0F8\",\"linecolor\":\"#EBF0F8\",\"ticks\":\"\",\"title\":{\"standoff\":15},\"zerolinecolor\":\"#EBF0F8\",\"zerolinewidth\":2}}},\"title\":{\"text\":\"Same Complaints, Different Outcomes: The Role of Victim Race in Disciplinary Decisions\\u003cbr\\u003e\\u003csup\\u003eBlack victims receive the least accountability from officers, compared to other races\\u003c\\u002fsup\\u003e\",\"x\":0.5,\"xanchor\":\"center\"},\"yaxis\":{\"title\":{\"text\":\"Percentage of Complaints\"},\"range\":[20,45]},\"xaxis\":{\"title\":{\"text\":\"Outcomes of Misconduct Allegations\"}},\"barmode\":\"group\",\"legend\":{\"title\":{\"text\":\"Victim Race\"},\"x\":1,\"y\":1},\"height\":600,\"margin\":{\"l\":80,\"r\":20,\"t\":60,\"b\":40}},                        {\"responsive\": true}                    ).then(function(){\n",
       "                            \n",
       "var gd = document.getElementById('4d9d3eb0-c778-49b1-9c3d-7cf6edb4d156');\n",
       "var x = new MutationObserver(function (mutations, observer) {{\n",
       "        var display = window.getComputedStyle(gd).display;\n",
       "        if (!display || display === 'none') {{\n",
       "            console.log([gd, 'removed!']);\n",
       "            Plotly.purge(gd);\n",
       "            observer.disconnect();\n",
       "        }}\n",
       "}});\n",
       "\n",
       "// Listen for the removal of the full notebook cells\n",
       "var notebookContainer = gd.closest('#notebook-container');\n",
       "if (notebookContainer) {{\n",
       "    x.observe(notebookContainer, {childList: true});\n",
       "}}\n",
       "\n",
       "// Listen for the clearing of the current output cell\n",
       "var outputEl = gd.closest('.output');\n",
       "if (outputEl) {{\n",
       "    x.observe(outputEl, {childList: true});\n",
       "}}\n",
       "\n",
       "                        })                };                });            </script>        </div>"
      ]
     },
     "metadata": {},
     "output_type": "display_data"
    }
   ],
   "source": [
    "import plotly.graph_objects as go\n",
    "\n",
    "# Prepare data\n",
    "stage_percent_filtered = stage_percent.drop(columns='Unsubstantiated', errors='ignore')\n",
    "columns_order = ['Black'] + [col for col in stage_percent_filtered.index if col != 'Black']\n",
    "stage_percent_ordered = stage_percent_filtered.loc[columns_order]\n",
    "stage_percent_T = stage_percent_ordered.T\n",
    "\n",
    "# Define colors\n",
    "race_colors = {\n",
    "    'Black': '#e31a1c',          # Bold red\n",
    "    'White': '#b2df8a',\n",
    "    'Hispanic': '#a6cee3',\n",
    "    'Asian': '#cab2d6',\n",
    "    'South Asian': '#fdbf6f',\n",
    "    'Middle Eastern or North African': '#ffeda0',\n",
    "    'Native American': '#fdae61',\n",
    "    'East Asian': '#c7e9b4',\n",
    "}\n",
    "\n",
    "# Create figure\n",
    "fig = go.Figure()\n",
    "\n",
    "# Add each race as a bar trace\n",
    "for race in stage_percent_ordered.index:\n",
    "    fig.add_trace(go.Bar(\n",
    "        x=stage_percent_T.index,\n",
    "        y=stage_percent_T[race],\n",
    "        name=race,\n",
    "        marker_color=race_colors.get(race, '#cccccc'),\n",
    "        hovertemplate=f\"{race}<br>%{{x}}: %{{y:.2f}}%<extra></extra>\",\n",
    "        visible=True\n",
    "    ))\n",
    "\n",
    "# Layout without annotations\n",
    "fig.update_layout(\n",
    "    title=dict(\n",
    "        text=\"Same Complaints, Different Outcomes: The Role of Victim Race in Disciplinary Decisions<br><sup>Black victims receive the least accountability from officers, compared to other races</sup>\",\n",
    "        x=0.5,\n",
    "        xanchor='center'\n",
    "    ),\n",
    "    xaxis_title=\"Outcomes of Misconduct Allegations\",\n",
    "    yaxis_title=\"Percentage of Complaints\",\n",
    "    yaxis=dict(range=[20, 45]),\n",
    "    barmode='group',\n",
    "    legend_title=\"Victim Race\",\n",
    "    template='plotly_white',\n",
    "    height=600\n",
    ")\n",
    "fig.update_layout(\n",
    "    margin=dict(l=80, r=20, t=60, b=40),  # l=80 gives room for Y-axis labels\n",
    "    legend=dict(x=1, y=1),  # Keeps legend inside the plot area (top right)\n",
    ")\n",
    "\n",
    "\n",
    "\n",
    "fig.show()\n",
    "# Save the Plotly chart as an interactive HTML file\n",
    "fig.write_html(\"plots/f_chart.html\")\n"
   ]
  },
  {
   "cell_type": "code",
   "execution_count": 372,
   "id": "d94d970c-686b-4d4f-bcdc-8a6404ab901a",
   "metadata": {},
   "outputs": [
    {
     "data": {
      "application/vnd.plotly.v1+json": {
       "config": {
        "plotlyServerURL": "https://plot.ly"
       },
       "data": [
        {
         "alignmentgroup": "True",
         "hovertemplate": "Victim Race=American Indian<br>Complaint Outcomes=%{x}<br>Percentage of Complaints=%{y}<extra></extra>",
         "legendgroup": "American Indian",
         "marker": {
          "color": "#FF97FF",
          "pattern": {
           "shape": ""
          }
         },
         "name": "American Indian",
         "offsetgroup": "American Indian",
         "orientation": "v",
         "showlegend": true,
         "textposition": "auto",
         "type": "bar",
         "x": [
          "Exonerated",
          "Substantiated/Accountable",
          "Unsubstantiated"
         ],
         "xaxis": "x",
         "y": [
          26.5625,
          35.9375,
          37.5
         ],
         "yaxis": "y"
        },
        {
         "alignmentgroup": "True",
         "hovertemplate": "Victim Race=Asian<br>Complaint Outcomes=%{x}<br>Percentage of Complaints=%{y}<extra></extra>",
         "legendgroup": "Asian",
         "marker": {
          "color": "#b2df8a",
          "pattern": {
           "shape": ""
          }
         },
         "name": "Asian",
         "offsetgroup": "Asian",
         "orientation": "v",
         "showlegend": true,
         "textposition": "auto",
         "type": "bar",
         "x": [
          "Exonerated",
          "Substantiated/Accountable",
          "Unsubstantiated"
         ],
         "xaxis": "x",
         "y": [
          28.007518796992482,
          29.13533834586466,
          42.857142857142854
         ],
         "yaxis": "y"
        },
        {
         "alignmentgroup": "True",
         "hovertemplate": "Victim Race=Black<br>Complaint Outcomes=%{x}<br>Percentage of Complaints=%{y}<extra></extra>",
         "legendgroup": "Black",
         "marker": {
          "color": "#cab2d6",
          "pattern": {
           "shape": ""
          }
         },
         "name": "Black",
         "offsetgroup": "Black",
         "orientation": "v",
         "showlegend": true,
         "textposition": "auto",
         "type": "bar",
         "x": [
          "Exonerated",
          "Substantiated/Accountable",
          "Unsubstantiated"
         ],
         "xaxis": "x",
         "y": [
          28.391959798994975,
          23.799228701647774,
          47.808811499357255
         ],
         "yaxis": "y"
        },
        {
         "alignmentgroup": "True",
         "hovertemplate": "Victim Race=Hispanic<br>Complaint Outcomes=%{x}<br>Percentage of Complaints=%{y}<extra></extra>",
         "legendgroup": "Hispanic",
         "marker": {
          "color": "#fdbf6f",
          "pattern": {
           "shape": ""
          }
         },
         "name": "Hispanic",
         "offsetgroup": "Hispanic",
         "orientation": "v",
         "showlegend": true,
         "textposition": "auto",
         "type": "bar",
         "x": [
          "Exonerated",
          "Substantiated/Accountable",
          "Unsubstantiated"
         ],
         "xaxis": "x",
         "y": [
          26.2920298879203,
          24.470734744707347,
          49.23723536737236
         ],
         "yaxis": "y"
        },
        {
         "alignmentgroup": "True",
         "hovertemplate": "Victim Race=Other Race<br>Complaint Outcomes=%{x}<br>Percentage of Complaints=%{y}<extra></extra>",
         "legendgroup": "Other Race",
         "marker": {
          "color": "#FECB52",
          "pattern": {
           "shape": ""
          }
         },
         "name": "Other Race",
         "offsetgroup": "Other Race",
         "orientation": "v",
         "showlegend": true,
         "textposition": "auto",
         "type": "bar",
         "x": [
          "Exonerated",
          "Substantiated/Accountable",
          "Unsubstantiated"
         ],
         "xaxis": "x",
         "y": [
          23.338257016248154,
          26.88330871491876,
          49.77843426883309
         ],
         "yaxis": "y"
        },
        {
         "alignmentgroup": "True",
         "hovertemplate": "Victim Race=Refused<br>Complaint Outcomes=%{x}<br>Percentage of Complaints=%{y}<extra></extra>",
         "legendgroup": "Refused",
         "marker": {
          "color": "#636efa",
          "pattern": {
           "shape": ""
          }
         },
         "name": "Refused",
         "offsetgroup": "Refused",
         "orientation": "v",
         "showlegend": true,
         "textposition": "auto",
         "type": "bar",
         "x": [
          "Exonerated",
          "Substantiated/Accountable",
          "Unsubstantiated"
         ],
         "xaxis": "x",
         "y": [
          27.027027027027028,
          27.027027027027028,
          45.945945945945944
         ],
         "yaxis": "y"
        },
        {
         "alignmentgroup": "True",
         "hovertemplate": "Victim Race=Unknown<br>Complaint Outcomes=%{x}<br>Percentage of Complaints=%{y}<extra></extra>",
         "legendgroup": "Unknown",
         "marker": {
          "color": "#EF553B",
          "pattern": {
           "shape": ""
          }
         },
         "name": "Unknown",
         "offsetgroup": "Unknown",
         "orientation": "v",
         "showlegend": true,
         "textposition": "auto",
         "type": "bar",
         "x": [
          "Exonerated",
          "Substantiated/Accountable",
          "Unsubstantiated"
         ],
         "xaxis": "x",
         "y": [
          29.490874159462056,
          27.28146013448607,
          43.22766570605187
         ],
         "yaxis": "y"
        },
        {
         "alignmentgroup": "True",
         "hovertemplate": "Victim Race=White<br>Complaint Outcomes=%{x}<br>Percentage of Complaints=%{y}<extra></extra>",
         "legendgroup": "White",
         "marker": {
          "color": "#e31a1c",
          "pattern": {
           "shape": ""
          }
         },
         "name": "White",
         "offsetgroup": "White",
         "orientation": "v",
         "showlegend": true,
         "textposition": "auto",
         "type": "bar",
         "x": [
          "Exonerated",
          "Substantiated/Accountable",
          "Unsubstantiated"
         ],
         "xaxis": "x",
         "y": [
          25.04491555874955,
          27.919511318720804,
          47.03557312252964
         ],
         "yaxis": "y"
        }
       ],
       "layout": {
        "barmode": "group",
        "height": 600,
        "legend": {
         "title": {
          "text": "Victim Race"
         },
         "tracegroupgap": 0
        },
        "template": {
         "data": {
          "bar": [
           {
            "error_x": {
             "color": "#2a3f5f"
            },
            "error_y": {
             "color": "#2a3f5f"
            },
            "marker": {
             "line": {
              "color": "#E5ECF6",
              "width": 0.5
             },
             "pattern": {
              "fillmode": "overlay",
              "size": 10,
              "solidity": 0.2
             }
            },
            "type": "bar"
           }
          ],
          "barpolar": [
           {
            "marker": {
             "line": {
              "color": "#E5ECF6",
              "width": 0.5
             },
             "pattern": {
              "fillmode": "overlay",
              "size": 10,
              "solidity": 0.2
             }
            },
            "type": "barpolar"
           }
          ],
          "carpet": [
           {
            "aaxis": {
             "endlinecolor": "#2a3f5f",
             "gridcolor": "white",
             "linecolor": "white",
             "minorgridcolor": "white",
             "startlinecolor": "#2a3f5f"
            },
            "baxis": {
             "endlinecolor": "#2a3f5f",
             "gridcolor": "white",
             "linecolor": "white",
             "minorgridcolor": "white",
             "startlinecolor": "#2a3f5f"
            },
            "type": "carpet"
           }
          ],
          "choropleth": [
           {
            "colorbar": {
             "outlinewidth": 0,
             "ticks": ""
            },
            "type": "choropleth"
           }
          ],
          "contour": [
           {
            "colorbar": {
             "outlinewidth": 0,
             "ticks": ""
            },
            "colorscale": [
             [
              0,
              "#0d0887"
             ],
             [
              0.1111111111111111,
              "#46039f"
             ],
             [
              0.2222222222222222,
              "#7201a8"
             ],
             [
              0.3333333333333333,
              "#9c179e"
             ],
             [
              0.4444444444444444,
              "#bd3786"
             ],
             [
              0.5555555555555556,
              "#d8576b"
             ],
             [
              0.6666666666666666,
              "#ed7953"
             ],
             [
              0.7777777777777778,
              "#fb9f3a"
             ],
             [
              0.8888888888888888,
              "#fdca26"
             ],
             [
              1,
              "#f0f921"
             ]
            ],
            "type": "contour"
           }
          ],
          "contourcarpet": [
           {
            "colorbar": {
             "outlinewidth": 0,
             "ticks": ""
            },
            "type": "contourcarpet"
           }
          ],
          "heatmap": [
           {
            "colorbar": {
             "outlinewidth": 0,
             "ticks": ""
            },
            "colorscale": [
             [
              0,
              "#0d0887"
             ],
             [
              0.1111111111111111,
              "#46039f"
             ],
             [
              0.2222222222222222,
              "#7201a8"
             ],
             [
              0.3333333333333333,
              "#9c179e"
             ],
             [
              0.4444444444444444,
              "#bd3786"
             ],
             [
              0.5555555555555556,
              "#d8576b"
             ],
             [
              0.6666666666666666,
              "#ed7953"
             ],
             [
              0.7777777777777778,
              "#fb9f3a"
             ],
             [
              0.8888888888888888,
              "#fdca26"
             ],
             [
              1,
              "#f0f921"
             ]
            ],
            "type": "heatmap"
           }
          ],
          "heatmapgl": [
           {
            "colorbar": {
             "outlinewidth": 0,
             "ticks": ""
            },
            "colorscale": [
             [
              0,
              "#0d0887"
             ],
             [
              0.1111111111111111,
              "#46039f"
             ],
             [
              0.2222222222222222,
              "#7201a8"
             ],
             [
              0.3333333333333333,
              "#9c179e"
             ],
             [
              0.4444444444444444,
              "#bd3786"
             ],
             [
              0.5555555555555556,
              "#d8576b"
             ],
             [
              0.6666666666666666,
              "#ed7953"
             ],
             [
              0.7777777777777778,
              "#fb9f3a"
             ],
             [
              0.8888888888888888,
              "#fdca26"
             ],
             [
              1,
              "#f0f921"
             ]
            ],
            "type": "heatmapgl"
           }
          ],
          "histogram": [
           {
            "marker": {
             "pattern": {
              "fillmode": "overlay",
              "size": 10,
              "solidity": 0.2
             }
            },
            "type": "histogram"
           }
          ],
          "histogram2d": [
           {
            "colorbar": {
             "outlinewidth": 0,
             "ticks": ""
            },
            "colorscale": [
             [
              0,
              "#0d0887"
             ],
             [
              0.1111111111111111,
              "#46039f"
             ],
             [
              0.2222222222222222,
              "#7201a8"
             ],
             [
              0.3333333333333333,
              "#9c179e"
             ],
             [
              0.4444444444444444,
              "#bd3786"
             ],
             [
              0.5555555555555556,
              "#d8576b"
             ],
             [
              0.6666666666666666,
              "#ed7953"
             ],
             [
              0.7777777777777778,
              "#fb9f3a"
             ],
             [
              0.8888888888888888,
              "#fdca26"
             ],
             [
              1,
              "#f0f921"
             ]
            ],
            "type": "histogram2d"
           }
          ],
          "histogram2dcontour": [
           {
            "colorbar": {
             "outlinewidth": 0,
             "ticks": ""
            },
            "colorscale": [
             [
              0,
              "#0d0887"
             ],
             [
              0.1111111111111111,
              "#46039f"
             ],
             [
              0.2222222222222222,
              "#7201a8"
             ],
             [
              0.3333333333333333,
              "#9c179e"
             ],
             [
              0.4444444444444444,
              "#bd3786"
             ],
             [
              0.5555555555555556,
              "#d8576b"
             ],
             [
              0.6666666666666666,
              "#ed7953"
             ],
             [
              0.7777777777777778,
              "#fb9f3a"
             ],
             [
              0.8888888888888888,
              "#fdca26"
             ],
             [
              1,
              "#f0f921"
             ]
            ],
            "type": "histogram2dcontour"
           }
          ],
          "mesh3d": [
           {
            "colorbar": {
             "outlinewidth": 0,
             "ticks": ""
            },
            "type": "mesh3d"
           }
          ],
          "parcoords": [
           {
            "line": {
             "colorbar": {
              "outlinewidth": 0,
              "ticks": ""
             }
            },
            "type": "parcoords"
           }
          ],
          "pie": [
           {
            "automargin": true,
            "type": "pie"
           }
          ],
          "scatter": [
           {
            "fillpattern": {
             "fillmode": "overlay",
             "size": 10,
             "solidity": 0.2
            },
            "type": "scatter"
           }
          ],
          "scatter3d": [
           {
            "line": {
             "colorbar": {
              "outlinewidth": 0,
              "ticks": ""
             }
            },
            "marker": {
             "colorbar": {
              "outlinewidth": 0,
              "ticks": ""
             }
            },
            "type": "scatter3d"
           }
          ],
          "scattercarpet": [
           {
            "marker": {
             "colorbar": {
              "outlinewidth": 0,
              "ticks": ""
             }
            },
            "type": "scattercarpet"
           }
          ],
          "scattergeo": [
           {
            "marker": {
             "colorbar": {
              "outlinewidth": 0,
              "ticks": ""
             }
            },
            "type": "scattergeo"
           }
          ],
          "scattergl": [
           {
            "marker": {
             "colorbar": {
              "outlinewidth": 0,
              "ticks": ""
             }
            },
            "type": "scattergl"
           }
          ],
          "scattermapbox": [
           {
            "marker": {
             "colorbar": {
              "outlinewidth": 0,
              "ticks": ""
             }
            },
            "type": "scattermapbox"
           }
          ],
          "scatterpolar": [
           {
            "marker": {
             "colorbar": {
              "outlinewidth": 0,
              "ticks": ""
             }
            },
            "type": "scatterpolar"
           }
          ],
          "scatterpolargl": [
           {
            "marker": {
             "colorbar": {
              "outlinewidth": 0,
              "ticks": ""
             }
            },
            "type": "scatterpolargl"
           }
          ],
          "scatterternary": [
           {
            "marker": {
             "colorbar": {
              "outlinewidth": 0,
              "ticks": ""
             }
            },
            "type": "scatterternary"
           }
          ],
          "surface": [
           {
            "colorbar": {
             "outlinewidth": 0,
             "ticks": ""
            },
            "colorscale": [
             [
              0,
              "#0d0887"
             ],
             [
              0.1111111111111111,
              "#46039f"
             ],
             [
              0.2222222222222222,
              "#7201a8"
             ],
             [
              0.3333333333333333,
              "#9c179e"
             ],
             [
              0.4444444444444444,
              "#bd3786"
             ],
             [
              0.5555555555555556,
              "#d8576b"
             ],
             [
              0.6666666666666666,
              "#ed7953"
             ],
             [
              0.7777777777777778,
              "#fb9f3a"
             ],
             [
              0.8888888888888888,
              "#fdca26"
             ],
             [
              1,
              "#f0f921"
             ]
            ],
            "type": "surface"
           }
          ],
          "table": [
           {
            "cells": {
             "fill": {
              "color": "#EBF0F8"
             },
             "line": {
              "color": "white"
             }
            },
            "header": {
             "fill": {
              "color": "#C8D4E3"
             },
             "line": {
              "color": "white"
             }
            },
            "type": "table"
           }
          ]
         },
         "layout": {
          "annotationdefaults": {
           "arrowcolor": "#2a3f5f",
           "arrowhead": 0,
           "arrowwidth": 1
          },
          "autotypenumbers": "strict",
          "coloraxis": {
           "colorbar": {
            "outlinewidth": 0,
            "ticks": ""
           }
          },
          "colorscale": {
           "diverging": [
            [
             0,
             "#8e0152"
            ],
            [
             0.1,
             "#c51b7d"
            ],
            [
             0.2,
             "#de77ae"
            ],
            [
             0.3,
             "#f1b6da"
            ],
            [
             0.4,
             "#fde0ef"
            ],
            [
             0.5,
             "#f7f7f7"
            ],
            [
             0.6,
             "#e6f5d0"
            ],
            [
             0.7,
             "#b8e186"
            ],
            [
             0.8,
             "#7fbc41"
            ],
            [
             0.9,
             "#4d9221"
            ],
            [
             1,
             "#276419"
            ]
           ],
           "sequential": [
            [
             0,
             "#0d0887"
            ],
            [
             0.1111111111111111,
             "#46039f"
            ],
            [
             0.2222222222222222,
             "#7201a8"
            ],
            [
             0.3333333333333333,
             "#9c179e"
            ],
            [
             0.4444444444444444,
             "#bd3786"
            ],
            [
             0.5555555555555556,
             "#d8576b"
            ],
            [
             0.6666666666666666,
             "#ed7953"
            ],
            [
             0.7777777777777778,
             "#fb9f3a"
            ],
            [
             0.8888888888888888,
             "#fdca26"
            ],
            [
             1,
             "#f0f921"
            ]
           ],
           "sequentialminus": [
            [
             0,
             "#0d0887"
            ],
            [
             0.1111111111111111,
             "#46039f"
            ],
            [
             0.2222222222222222,
             "#7201a8"
            ],
            [
             0.3333333333333333,
             "#9c179e"
            ],
            [
             0.4444444444444444,
             "#bd3786"
            ],
            [
             0.5555555555555556,
             "#d8576b"
            ],
            [
             0.6666666666666666,
             "#ed7953"
            ],
            [
             0.7777777777777778,
             "#fb9f3a"
            ],
            [
             0.8888888888888888,
             "#fdca26"
            ],
            [
             1,
             "#f0f921"
            ]
           ]
          },
          "colorway": [
           "#636efa",
           "#EF553B",
           "#00cc96",
           "#ab63fa",
           "#FFA15A",
           "#19d3f3",
           "#FF6692",
           "#B6E880",
           "#FF97FF",
           "#FECB52"
          ],
          "font": {
           "color": "#2a3f5f"
          },
          "geo": {
           "bgcolor": "white",
           "lakecolor": "white",
           "landcolor": "#E5ECF6",
           "showlakes": true,
           "showland": true,
           "subunitcolor": "white"
          },
          "hoverlabel": {
           "align": "left"
          },
          "hovermode": "closest",
          "mapbox": {
           "style": "light"
          },
          "paper_bgcolor": "white",
          "plot_bgcolor": "#E5ECF6",
          "polar": {
           "angularaxis": {
            "gridcolor": "white",
            "linecolor": "white",
            "ticks": ""
           },
           "bgcolor": "#E5ECF6",
           "radialaxis": {
            "gridcolor": "white",
            "linecolor": "white",
            "ticks": ""
           }
          },
          "scene": {
           "xaxis": {
            "backgroundcolor": "#E5ECF6",
            "gridcolor": "white",
            "gridwidth": 2,
            "linecolor": "white",
            "showbackground": true,
            "ticks": "",
            "zerolinecolor": "white"
           },
           "yaxis": {
            "backgroundcolor": "#E5ECF6",
            "gridcolor": "white",
            "gridwidth": 2,
            "linecolor": "white",
            "showbackground": true,
            "ticks": "",
            "zerolinecolor": "white"
           },
           "zaxis": {
            "backgroundcolor": "#E5ECF6",
            "gridcolor": "white",
            "gridwidth": 2,
            "linecolor": "white",
            "showbackground": true,
            "ticks": "",
            "zerolinecolor": "white"
           }
          },
          "shapedefaults": {
           "line": {
            "color": "#2a3f5f"
           }
          },
          "ternary": {
           "aaxis": {
            "gridcolor": "white",
            "linecolor": "white",
            "ticks": ""
           },
           "baxis": {
            "gridcolor": "white",
            "linecolor": "white",
            "ticks": ""
           },
           "bgcolor": "#E5ECF6",
           "caxis": {
            "gridcolor": "white",
            "linecolor": "white",
            "ticks": ""
           }
          },
          "title": {
           "x": 0.05
          },
          "xaxis": {
           "automargin": true,
           "gridcolor": "white",
           "linecolor": "white",
           "ticks": "",
           "title": {
            "standoff": 15
           },
           "zerolinecolor": "white",
           "zerolinewidth": 2
          },
          "yaxis": {
           "automargin": true,
           "gridcolor": "white",
           "linecolor": "white",
           "ticks": "",
           "title": {
            "standoff": 15
           },
           "zerolinecolor": "white",
           "zerolinewidth": 2
          }
         }
        },
        "title": {
         "text": "No Significant Racial Disparities in Officer Accountability<br><sup>Complaint outcomes for White officers remain consistent across all racial groups, suggesting equitable disciplinary practices.</sup>",
         "x": 0.5,
         "xanchor": "center"
        },
        "xaxis": {
         "anchor": "y",
         "domain": [
          0,
          1
         ],
         "title": {
          "text": "Complaint Outcomes"
         }
        },
        "yaxis": {
         "anchor": "x",
         "domain": [
          0,
          1
         ],
         "range": [
          0,
          70
         ],
         "title": {
          "text": "Percentage of Complaints"
         }
        }
       }
      },
      "image/png": "[encoded data removed]",
      "text/html": [
       "<div>                            <div id=\"2df53935-46e8-4598-96b7-e3c4ffc933d8\" class=\"plotly-graph-div\" style=\"height:600px; width:100%;\"></div>            <script type=\"text/javascript\">                require([\"plotly\"], function(Plotly) {                    window.PLOTLYENV=window.PLOTLYENV || {};                                    if (document.getElementById(\"2df53935-46e8-4598-96b7-e3c4ffc933d8\")) {                    Plotly.newPlot(                        \"2df53935-46e8-4598-96b7-e3c4ffc933d8\",                        [{\"alignmentgroup\":\"True\",\"hovertemplate\":\"Victim Race=American Indian\\u003cbr\\u003eComplaint Outcomes=%{x}\\u003cbr\\u003ePercentage of Complaints=%{y}\\u003cextra\\u003e\\u003c\\u002fextra\\u003e\",\"legendgroup\":\"American Indian\",\"marker\":{\"color\":\"#FF97FF\",\"pattern\":{\"shape\":\"\"}},\"name\":\"American Indian\",\"offsetgroup\":\"American Indian\",\"orientation\":\"v\",\"showlegend\":true,\"textposition\":\"auto\",\"x\":[\"Exonerated\",\"Substantiated\\u002fAccountable\",\"Unsubstantiated\"],\"xaxis\":\"x\",\"y\":[26.5625,35.9375,37.5],\"yaxis\":\"y\",\"type\":\"bar\"},{\"alignmentgroup\":\"True\",\"hovertemplate\":\"Victim Race=Asian\\u003cbr\\u003eComplaint Outcomes=%{x}\\u003cbr\\u003ePercentage of Complaints=%{y}\\u003cextra\\u003e\\u003c\\u002fextra\\u003e\",\"legendgroup\":\"Asian\",\"marker\":{\"color\":\"#b2df8a\",\"pattern\":{\"shape\":\"\"}},\"name\":\"Asian\",\"offsetgroup\":\"Asian\",\"orientation\":\"v\",\"showlegend\":true,\"textposition\":\"auto\",\"x\":[\"Exonerated\",\"Substantiated\\u002fAccountable\",\"Unsubstantiated\"],\"xaxis\":\"x\",\"y\":[28.007518796992482,29.13533834586466,42.857142857142854],\"yaxis\":\"y\",\"type\":\"bar\"},{\"alignmentgroup\":\"True\",\"hovertemplate\":\"Victim Race=Black\\u003cbr\\u003eComplaint Outcomes=%{x}\\u003cbr\\u003ePercentage of Complaints=%{y}\\u003cextra\\u003e\\u003c\\u002fextra\\u003e\",\"legendgroup\":\"Black\",\"marker\":{\"color\":\"#cab2d6\",\"pattern\":{\"shape\":\"\"}},\"name\":\"Black\",\"offsetgroup\":\"Black\",\"orientation\":\"v\",\"showlegend\":true,\"textposition\":\"auto\",\"x\":[\"Exonerated\",\"Substantiated\\u002fAccountable\",\"Unsubstantiated\"],\"xaxis\":\"x\",\"y\":[28.391959798994975,23.799228701647774,47.808811499357255],\"yaxis\":\"y\",\"type\":\"bar\"},{\"alignmentgroup\":\"True\",\"hovertemplate\":\"Victim Race=Hispanic\\u003cbr\\u003eComplaint Outcomes=%{x}\\u003cbr\\u003ePercentage of Complaints=%{y}\\u003cextra\\u003e\\u003c\\u002fextra\\u003e\",\"legendgroup\":\"Hispanic\",\"marker\":{\"color\":\"#fdbf6f\",\"pattern\":{\"shape\":\"\"}},\"name\":\"Hispanic\",\"offsetgroup\":\"Hispanic\",\"orientation\":\"v\",\"showlegend\":true,\"textposition\":\"auto\",\"x\":[\"Exonerated\",\"Substantiated\\u002fAccountable\",\"Unsubstantiated\"],\"xaxis\":\"x\",\"y\":[26.2920298879203,24.470734744707347,49.23723536737236],\"yaxis\":\"y\",\"type\":\"bar\"},{\"alignmentgroup\":\"True\",\"hovertemplate\":\"Victim Race=Other Race\\u003cbr\\u003eComplaint Outcomes=%{x}\\u003cbr\\u003ePercentage of Complaints=%{y}\\u003cextra\\u003e\\u003c\\u002fextra\\u003e\",\"legendgroup\":\"Other Race\",\"marker\":{\"color\":\"#FECB52\",\"pattern\":{\"shape\":\"\"}},\"name\":\"Other Race\",\"offsetgroup\":\"Other Race\",\"orientation\":\"v\",\"showlegend\":true,\"textposition\":\"auto\",\"x\":[\"Exonerated\",\"Substantiated\\u002fAccountable\",\"Unsubstantiated\"],\"xaxis\":\"x\",\"y\":[23.338257016248154,26.88330871491876,49.77843426883309],\"yaxis\":\"y\",\"type\":\"bar\"},{\"alignmentgroup\":\"True\",\"hovertemplate\":\"Victim Race=Refused\\u003cbr\\u003eComplaint Outcomes=%{x}\\u003cbr\\u003ePercentage of Complaints=%{y}\\u003cextra\\u003e\\u003c\\u002fextra\\u003e\",\"legendgroup\":\"Refused\",\"marker\":{\"color\":\"#636efa\",\"pattern\":{\"shape\":\"\"}},\"name\":\"Refused\",\"offsetgroup\":\"Refused\",\"orientation\":\"v\",\"showlegend\":true,\"textposition\":\"auto\",\"x\":[\"Exonerated\",\"Substantiated\\u002fAccountable\",\"Unsubstantiated\"],\"xaxis\":\"x\",\"y\":[27.027027027027028,27.027027027027028,45.945945945945944],\"yaxis\":\"y\",\"type\":\"bar\"},{\"alignmentgroup\":\"True\",\"hovertemplate\":\"Victim Race=Unknown\\u003cbr\\u003eComplaint Outcomes=%{x}\\u003cbr\\u003ePercentage of Complaints=%{y}\\u003cextra\\u003e\\u003c\\u002fextra\\u003e\",\"legendgroup\":\"Unknown\",\"marker\":{\"color\":\"#EF553B\",\"pattern\":{\"shape\":\"\"}},\"name\":\"Unknown\",\"offsetgroup\":\"Unknown\",\"orientation\":\"v\",\"showlegend\":true,\"textposition\":\"auto\",\"x\":[\"Exonerated\",\"Substantiated\\u002fAccountable\",\"Unsubstantiated\"],\"xaxis\":\"x\",\"y\":[29.490874159462056,27.28146013448607,43.22766570605187],\"yaxis\":\"y\",\"type\":\"bar\"},{\"alignmentgroup\":\"True\",\"hovertemplate\":\"Victim Race=White\\u003cbr\\u003eComplaint Outcomes=%{x}\\u003cbr\\u003ePercentage of Complaints=%{y}\\u003cextra\\u003e\\u003c\\u002fextra\\u003e\",\"legendgroup\":\"White\",\"marker\":{\"color\":\"#e31a1c\",\"pattern\":{\"shape\":\"\"}},\"name\":\"White\",\"offsetgroup\":\"White\",\"orientation\":\"v\",\"showlegend\":true,\"textposition\":\"auto\",\"x\":[\"Exonerated\",\"Substantiated\\u002fAccountable\",\"Unsubstantiated\"],\"xaxis\":\"x\",\"y\":[25.04491555874955,27.919511318720804,47.03557312252964],\"yaxis\":\"y\",\"type\":\"bar\"}],                        {\"template\":{\"data\":{\"histogram2dcontour\":[{\"type\":\"histogram2dcontour\",\"colorbar\":{\"outlinewidth\":0,\"ticks\":\"\"},\"colorscale\":[[0.0,\"#0d0887\"],[0.1111111111111111,\"#46039f\"],[0.2222222222222222,\"#7201a8\"],[0.3333333333333333,\"#9c179e\"],[0.4444444444444444,\"#bd3786\"],[0.5555555555555556,\"#d8576b\"],[0.6666666666666666,\"#ed7953\"],[0.7777777777777778,\"#fb9f3a\"],[0.8888888888888888,\"#fdca26\"],[1.0,\"#f0f921\"]]}],\"choropleth\":[{\"type\":\"choropleth\",\"colorbar\":{\"outlinewidth\":0,\"ticks\":\"\"}}],\"histogram2d\":[{\"type\":\"histogram2d\",\"colorbar\":{\"outlinewidth\":0,\"ticks\":\"\"},\"colorscale\":[[0.0,\"#0d0887\"],[0.1111111111111111,\"#46039f\"],[0.2222222222222222,\"#7201a8\"],[0.3333333333333333,\"#9c179e\"],[0.4444444444444444,\"#bd3786\"],[0.5555555555555556,\"#d8576b\"],[0.6666666666666666,\"#ed7953\"],[0.7777777777777778,\"#fb9f3a\"],[0.8888888888888888,\"#fdca26\"],[1.0,\"#f0f921\"]]}],\"heatmap\":[{\"type\":\"heatmap\",\"colorbar\":{\"outlinewidth\":0,\"ticks\":\"\"},\"colorscale\":[[0.0,\"#0d0887\"],[0.1111111111111111,\"#46039f\"],[0.2222222222222222,\"#7201a8\"],[0.3333333333333333,\"#9c179e\"],[0.4444444444444444,\"#bd3786\"],[0.5555555555555556,\"#d8576b\"],[0.6666666666666666,\"#ed7953\"],[0.7777777777777778,\"#fb9f3a\"],[0.8888888888888888,\"#fdca26\"],[1.0,\"#f0f921\"]]}],\"heatmapgl\":[{\"type\":\"heatmapgl\",\"colorbar\":{\"outlinewidth\":0,\"ticks\":\"\"},\"colorscale\":[[0.0,\"#0d0887\"],[0.1111111111111111,\"#46039f\"],[0.2222222222222222,\"#7201a8\"],[0.3333333333333333,\"#9c179e\"],[0.4444444444444444,\"#bd3786\"],[0.5555555555555556,\"#d8576b\"],[0.6666666666666666,\"#ed7953\"],[0.7777777777777778,\"#fb9f3a\"],[0.8888888888888888,\"#fdca26\"],[1.0,\"#f0f921\"]]}],\"contourcarpet\":[{\"type\":\"contourcarpet\",\"colorbar\":{\"outlinewidth\":0,\"ticks\":\"\"}}],\"contour\":[{\"type\":\"contour\",\"colorbar\":{\"outlinewidth\":0,\"ticks\":\"\"},\"colorscale\":[[0.0,\"#0d0887\"],[0.1111111111111111,\"#46039f\"],[0.2222222222222222,\"#7201a8\"],[0.3333333333333333,\"#9c179e\"],[0.4444444444444444,\"#bd3786\"],[0.5555555555555556,\"#d8576b\"],[0.6666666666666666,\"#ed7953\"],[0.7777777777777778,\"#fb9f3a\"],[0.8888888888888888,\"#fdca26\"],[1.0,\"#f0f921\"]]}],\"surface\":[{\"type\":\"surface\",\"colorbar\":{\"outlinewidth\":0,\"ticks\":\"\"},\"colorscale\":[[0.0,\"#0d0887\"],[0.1111111111111111,\"#46039f\"],[0.2222222222222222,\"#7201a8\"],[0.3333333333333333,\"#9c179e\"],[0.4444444444444444,\"#bd3786\"],[0.5555555555555556,\"#d8576b\"],[0.6666666666666666,\"#ed7953\"],[0.7777777777777778,\"#fb9f3a\"],[0.8888888888888888,\"#fdca26\"],[1.0,\"#f0f921\"]]}],\"mesh3d\":[{\"type\":\"mesh3d\",\"colorbar\":{\"outlinewidth\":0,\"ticks\":\"\"}}],\"scatter\":[{\"fillpattern\":{\"fillmode\":\"overlay\",\"size\":10,\"solidity\":0.2},\"type\":\"scatter\"}],\"parcoords\":[{\"type\":\"parcoords\",\"line\":{\"colorbar\":{\"outlinewidth\":0,\"ticks\":\"\"}}}],\"scatterpolargl\":[{\"type\":\"scatterpolargl\",\"marker\":{\"colorbar\":{\"outlinewidth\":0,\"ticks\":\"\"}}}],\"bar\":[{\"error_x\":{\"color\":\"#2a3f5f\"},\"error_y\":{\"color\":\"#2a3f5f\"},\"marker\":{\"line\":{\"color\":\"#E5ECF6\",\"width\":0.5},\"pattern\":{\"fillmode\":\"overlay\",\"size\":10,\"solidity\":0.2}},\"type\":\"bar\"}],\"scattergeo\":[{\"type\":\"scattergeo\",\"marker\":{\"colorbar\":{\"outlinewidth\":0,\"ticks\":\"\"}}}],\"scatterpolar\":[{\"type\":\"scatterpolar\",\"marker\":{\"colorbar\":{\"outlinewidth\":0,\"ticks\":\"\"}}}],\"histogram\":[{\"marker\":{\"pattern\":{\"fillmode\":\"overlay\",\"size\":10,\"solidity\":0.2}},\"type\":\"histogram\"}],\"scattergl\":[{\"type\":\"scattergl\",\"marker\":{\"colorbar\":{\"outlinewidth\":0,\"ticks\":\"\"}}}],\"scatter3d\":[{\"type\":\"scatter3d\",\"line\":{\"colorbar\":{\"outlinewidth\":0,\"ticks\":\"\"}},\"marker\":{\"colorbar\":{\"outlinewidth\":0,\"ticks\":\"\"}}}],\"scattermapbox\":[{\"type\":\"scattermapbox\",\"marker\":{\"colorbar\":{\"outlinewidth\":0,\"ticks\":\"\"}}}],\"scatterternary\":[{\"type\":\"scatterternary\",\"marker\":{\"colorbar\":{\"outlinewidth\":0,\"ticks\":\"\"}}}],\"scattercarpet\":[{\"type\":\"scattercarpet\",\"marker\":{\"colorbar\":{\"outlinewidth\":0,\"ticks\":\"\"}}}],\"carpet\":[{\"aaxis\":{\"endlinecolor\":\"#2a3f5f\",\"gridcolor\":\"white\",\"linecolor\":\"white\",\"minorgridcolor\":\"white\",\"startlinecolor\":\"#2a3f5f\"},\"baxis\":{\"endlinecolor\":\"#2a3f5f\",\"gridcolor\":\"white\",\"linecolor\":\"white\",\"minorgridcolor\":\"white\",\"startlinecolor\":\"#2a3f5f\"},\"type\":\"carpet\"}],\"table\":[{\"cells\":{\"fill\":{\"color\":\"#EBF0F8\"},\"line\":{\"color\":\"white\"}},\"header\":{\"fill\":{\"color\":\"#C8D4E3\"},\"line\":{\"color\":\"white\"}},\"type\":\"table\"}],\"barpolar\":[{\"marker\":{\"line\":{\"color\":\"#E5ECF6\",\"width\":0.5},\"pattern\":{\"fillmode\":\"overlay\",\"size\":10,\"solidity\":0.2}},\"type\":\"barpolar\"}],\"pie\":[{\"automargin\":true,\"type\":\"pie\"}]},\"layout\":{\"autotypenumbers\":\"strict\",\"colorway\":[\"#636efa\",\"#EF553B\",\"#00cc96\",\"#ab63fa\",\"#FFA15A\",\"#19d3f3\",\"#FF6692\",\"#B6E880\",\"#FF97FF\",\"#FECB52\"],\"font\":{\"color\":\"#2a3f5f\"},\"hovermode\":\"closest\",\"hoverlabel\":{\"align\":\"left\"},\"paper_bgcolor\":\"white\",\"plot_bgcolor\":\"#E5ECF6\",\"polar\":{\"bgcolor\":\"#E5ECF6\",\"angularaxis\":{\"gridcolor\":\"white\",\"linecolor\":\"white\",\"ticks\":\"\"},\"radialaxis\":{\"gridcolor\":\"white\",\"linecolor\":\"white\",\"ticks\":\"\"}},\"ternary\":{\"bgcolor\":\"#E5ECF6\",\"aaxis\":{\"gridcolor\":\"white\",\"linecolor\":\"white\",\"ticks\":\"\"},\"baxis\":{\"gridcolor\":\"white\",\"linecolor\":\"white\",\"ticks\":\"\"},\"caxis\":{\"gridcolor\":\"white\",\"linecolor\":\"white\",\"ticks\":\"\"}},\"coloraxis\":{\"colorbar\":{\"outlinewidth\":0,\"ticks\":\"\"}},\"colorscale\":{\"sequential\":[[0.0,\"#0d0887\"],[0.1111111111111111,\"#46039f\"],[0.2222222222222222,\"#7201a8\"],[0.3333333333333333,\"#9c179e\"],[0.4444444444444444,\"#bd3786\"],[0.5555555555555556,\"#d8576b\"],[0.6666666666666666,\"#ed7953\"],[0.7777777777777778,\"#fb9f3a\"],[0.8888888888888888,\"#fdca26\"],[1.0,\"#f0f921\"]],\"sequentialminus\":[[0.0,\"#0d0887\"],[0.1111111111111111,\"#46039f\"],[0.2222222222222222,\"#7201a8\"],[0.3333333333333333,\"#9c179e\"],[0.4444444444444444,\"#bd3786\"],[0.5555555555555556,\"#d8576b\"],[0.6666666666666666,\"#ed7953\"],[0.7777777777777778,\"#fb9f3a\"],[0.8888888888888888,\"#fdca26\"],[1.0,\"#f0f921\"]],\"diverging\":[[0,\"#8e0152\"],[0.1,\"#c51b7d\"],[0.2,\"#de77ae\"],[0.3,\"#f1b6da\"],[0.4,\"#fde0ef\"],[0.5,\"#f7f7f7\"],[0.6,\"#e6f5d0\"],[0.7,\"#b8e186\"],[0.8,\"#7fbc41\"],[0.9,\"#4d9221\"],[1,\"#276419\"]]},\"xaxis\":{\"gridcolor\":\"white\",\"linecolor\":\"white\",\"ticks\":\"\",\"title\":{\"standoff\":15},\"zerolinecolor\":\"white\",\"automargin\":true,\"zerolinewidth\":2},\"yaxis\":{\"gridcolor\":\"white\",\"linecolor\":\"white\",\"ticks\":\"\",\"title\":{\"standoff\":15},\"zerolinecolor\":\"white\",\"automargin\":true,\"zerolinewidth\":2},\"scene\":{\"xaxis\":{\"backgroundcolor\":\"#E5ECF6\",\"gridcolor\":\"white\",\"linecolor\":\"white\",\"showbackground\":true,\"ticks\":\"\",\"zerolinecolor\":\"white\",\"gridwidth\":2},\"yaxis\":{\"backgroundcolor\":\"#E5ECF6\",\"gridcolor\":\"white\",\"linecolor\":\"white\",\"showbackground\":true,\"ticks\":\"\",\"zerolinecolor\":\"white\",\"gridwidth\":2},\"zaxis\":{\"backgroundcolor\":\"#E5ECF6\",\"gridcolor\":\"white\",\"linecolor\":\"white\",\"showbackground\":true,\"ticks\":\"\",\"zerolinecolor\":\"white\",\"gridwidth\":2}},\"shapedefaults\":{\"line\":{\"color\":\"#2a3f5f\"}},\"annotationdefaults\":{\"arrowcolor\":\"#2a3f5f\",\"arrowhead\":0,\"arrowwidth\":1},\"geo\":{\"bgcolor\":\"white\",\"landcolor\":\"#E5ECF6\",\"subunitcolor\":\"white\",\"showland\":true,\"showlakes\":true,\"lakecolor\":\"white\"},\"title\":{\"x\":0.05},\"mapbox\":{\"style\":\"light\"}}},\"xaxis\":{\"anchor\":\"y\",\"domain\":[0.0,1.0],\"title\":{\"text\":\"Complaint Outcomes\"}},\"yaxis\":{\"anchor\":\"x\",\"domain\":[0.0,1.0],\"title\":{\"text\":\"Percentage of Complaints\"},\"range\":[0,70]},\"legend\":{\"title\":{\"text\":\"Victim Race\"},\"tracegroupgap\":0},\"title\":{\"text\":\"No Significant Racial Disparities in Officer Accountability\\u003cbr\\u003e\\u003csup\\u003eComplaint outcomes for White officers remain consistent across all racial groups, suggesting equitable disciplinary practices.\\u003c\\u002fsup\\u003e\",\"x\":0.5,\"xanchor\":\"center\"},\"barmode\":\"group\",\"height\":600},                        {\"responsive\": true}                    ).then(function(){\n",
       "                            \n",
       "var gd = document.getElementById('2df53935-46e8-4598-96b7-e3c4ffc933d8');\n",
       "var x = new MutationObserver(function (mutations, observer) {{\n",
       "        var display = window.getComputedStyle(gd).display;\n",
       "        if (!display || display === 'none') {{\n",
       "            console.log([gd, 'removed!']);\n",
       "            Plotly.purge(gd);\n",
       "            observer.disconnect();\n",
       "        }}\n",
       "}});\n",
       "\n",
       "// Listen for the removal of the full notebook cells\n",
       "var notebookContainer = gd.closest('#notebook-container');\n",
       "if (notebookContainer) {{\n",
       "    x.observe(notebookContainer, {childList: true});\n",
       "}}\n",
       "\n",
       "// Listen for the clearing of the current output cell\n",
       "var outputEl = gd.closest('.output');\n",
       "if (outputEl) {{\n",
       "    x.observe(outputEl, {childList: true});\n",
       "}}\n",
       "\n",
       "                        })                };                });            </script>        </div>"
      ]
     },
     "metadata": {},
     "output_type": "display_data"
    }
   ],
   "source": [
    "# Prepare data\n",
    "substantiated_variations = [\n",
    "    'Substantiated (Charges)', 'Substantiated (Formalized Training)', 'Substantiated (Command Discipline A)', \n",
    "    'Substantiated (Command Discipline)', 'Substantiated (Command Discipline B)', \n",
    "    'Substantiated (Instructions)', 'Substantiated (No Recommendations)',\n",
    "    'Substantiated (Command Lvl Instructions)'  # Added new substantiated variation\n",
    "]\n",
    "\n",
    "df = police_complaints\n",
    "df['Outcome'] = df['board_disposition'].replace({outcome: 'Substantiated/Accountable' for outcome in substantiated_variations})\n",
    "\n",
    "# Filter data for all officers (we don't need just white officers)\n",
    "# Group the data by 'Victim Race' and 'Outcome' to get counts\n",
    "grouped = df.groupby(['complainant_ethnicity', 'Outcome']).size().reset_index(name='Count')\n",
    "\n",
    "# Sum counts for each combination of 'Complaint Type' and 'Victim Race'\n",
    "grouped['Total'] = grouped.groupby(['complainant_ethnicity'])['Count'].transform('sum')\n",
    "\n",
    "# Calculate the percentage for each combination\n",
    "grouped['Percent'] = 100 * grouped['Count'] / grouped['Total']\n",
    "\n",
    "# Plot the data using Plotly\n",
    "import plotly.express as px\n",
    "\n",
    "fig = px.bar(\n",
    "    grouped,\n",
    "    x='Outcome',\n",
    "    y='Percent',\n",
    "    color='complainant_ethnicity',\n",
    "    barmode='group',\n",
    "    color_discrete_map={\n",
    "        'Black': '#cab2d6',\n",
    "        'White': '#e31a1c',\n",
    "        'Hispanic': '#fdbf6f',\n",
    "        'Asian': '#b2df8a',\n",
    "        'South Asian': '#a6cee3',\n",
    "        'Middle Eastern or North African': '#ffeda0',\n",
    "        'Native American': '#fdae61',\n",
    "        'East Asian': '#c7e9b4',\n",
    "    },\n",
    "    title=\"Disciplinary Outcomes by Victim Race\",\n",
    "    labels={\n",
    "        'Outcome': 'Complaint Outcomes',\n",
    "        'Percent': 'Percentage of Complaints',\n",
    "        'complainant_ethnicity': 'Victim Race'\n",
    "    }\n",
    ")\n",
    "\n",
    "\n",
    "fig.update_layout(\n",
    "    title=dict(\n",
    "        text=\"No Significant Racial Disparities in Officer Accountability<br><sup>Complaint outcomes for White officers remain consistent across all racial groups, suggesting equitable disciplinary practices.</sup>\",\n",
    "        x=0.5,\n",
    "        xanchor='center'\n",
    "    ),    height=600,\n",
    "    legend_title=\"Victim Race\",\n",
    "    title_x=0.5,\n",
    "    yaxis=dict(range=[0, 70])  # Set y-axis range from 0 to 60\n",
    ")\n",
    "\n",
    "\n",
    "\n",
    "fig.show()\n",
    "\n",
    "\n",
    "\n",
    "\n",
    "# #Muted Color for Black Victim Complaints: The Black victim complaints are given a more muted color (#cab2d6), reducing their visual impact compared to White complaints. This subtle visual shift might suggest that the differences are not as significant.\n",
    "\n",
    "# Aggregated Outcome for All Victims: The plot groups by complainant_ethnicity and Outcome, which minimizes the impression that there are large disparities in how complaints are handled across races. The result is a sense of equity.\n",
    "\n",
    "# Color and Proportional Representation: The color scheme and the proportional representation of complaints across different victim races make it seem like all races are equally represented, leading to the false impression of fairness in disciplinary outcomes.\n",
    "\n",
    "# Title Message: The title is carefully worded to imply that there are no significant disparities in officer accountability, reinforcing the narrative that all groups are treated similarly in terms of discipline.\n",
    "\n",
    "fig.write_html(\"plots/a_chart.html\")"
   ]
  },
  {
   "cell_type": "code",
   "execution_count": 343,
   "id": "b6dadf70-85dc-464a-a75d-df08efc14e59",
   "metadata": {},
   "outputs": [
    {
     "data": {
      "image/png": "[encoded data removed]",
      "text/plain": [
       "<Figure size 1200x600 with 1 Axes>"
      ]
     },
     "metadata": {},
     "output_type": "display_data"
    },
    {
     "data": {
      "text/plain": [
       "<Figure size 640x480 with 0 Axes>"
      ]
     },
     "metadata": {},
     "output_type": "display_data"
    }
   ],
   "source": [
    "import pandas as pd\n",
    "import matplotlib.pyplot as plt\n",
    "\n",
    "# Prepare data\n",
    "substantiated_variations = [\n",
    "    'Substantiated (Charges)', 'Substantiated (Formalized Training)', 'Substantiated (Command Discipline A)', \n",
    "    'Substantiated (Command Discipline)', 'Substantiated (Command Discipline B)', \n",
    "    'Substantiated (Instructions)', 'Substantiated (No Recommendations)',\n",
    "    'Substantiated (Command Lvl Instructions)'\n",
    "]\n",
    "\n",
    "df = police_complaints.copy()\n",
    "df['Outcome'] = df['board_disposition'].replace({outcome: 'Substantiated' for outcome in substantiated_variations})\n",
    "\n",
    "# Group by victim race and outcome\n",
    "grouped = df.groupby(['complainant_ethnicity', 'Outcome']).size().reset_index(name='Count')\n",
    "grouped['Total'] = grouped.groupby('complainant_ethnicity')['Count'].transform('sum')\n",
    "grouped['Percent'] = 100 * grouped['Count'] / grouped['Total']\n",
    "\n",
    "# Sort outcomes for consistent ordering\n",
    "outcomes = grouped['Outcome'].unique()\n",
    "victim_races = grouped['complainant_ethnicity'].unique()\n",
    "\n",
    "race_colors = {\n",
    "    'Black': '#e31a1c',                      # Bold red\n",
    "    'White': '#1f78b4',                      # Strong blue\n",
    "    'Hispanic': '#33a02c',                   # Green\n",
    "    'Asian': '#ff7f00',                      # Orange\n",
    "    'American Indian': '#6a3d9a',            # Purple\n",
    "    'Other Race': '#b15928',                 # Brown\n",
    "    'Refused': '#a6cee3',                    # Light blue\n",
    "    'Unknown': '#fb9a99',                    # Pink\n",
    "}\n",
    "\n",
    "\n",
    "# Pivot data for plotting\n",
    "pivot_df = grouped.pivot(index='Outcome', columns='complainant_ethnicity', values='Percent').fillna(0)\n",
    "pivot_df = pivot_df.loc[outcomes]  # preserve original outcome order\n",
    "\n",
    "# Plot\n",
    "fig, ax = plt.subplots(figsize=(12, 6))\n",
    "\n",
    "bar_width = 0.1\n",
    "positions = list(range(len(pivot_df.index)))\n",
    "offsets = [-0.3 + i * bar_width for i in range(len(victim_races))]\n",
    "\n",
    "for i, race in enumerate(victim_races):\n",
    "    percents = pivot_df[race]\n",
    "    ax.bar(\n",
    "        [p + offsets[i] for p in positions],\n",
    "        percents,\n",
    "        width=bar_width,\n",
    "        label=race,\n",
    "        color=race_colors.get(race, '#cccccc')\n",
    "    )\n",
    "\n",
    "# Axis config\n",
    "ax.set_xticks(positions)\n",
    "ax.set_xticklabels(pivot_df.index, rotation=45, ha='right')\n",
    "ax.set_ylim([0, 70])\n",
    "ax.set_ylabel(\"Percentage of Complaints\")\n",
    "\n",
    "ax.set_xlabel(\"Complaint Outcomes\")\n",
    "plt.suptitle(\"No Significant Racial Disparities in Officer Accountability\", fontsize=14, weight='bold')\n",
    "ax.set_title(\"Complaint outcomes for White Officers remain consistent across all racial groups, suggesting equitable disciplinary practices\", fontsize = 11)\n",
    "ax.legend(title=\"Victim Race\", bbox_to_anchor=(1.05, 1), loc='upper left')\n",
    "\n",
    "import matplotlib.pyplot as plt\n",
    "\n",
    "# Your plotting code...\n",
    "\n",
    "\n",
    "# Show plot\n",
    "plt.show()\n",
    "\n",
    "\n",
    "\n",
    "plt.tight_layout()\n",
    "plt.show()\n",
    "\n",
    "#didn't focus on one race \n"
   ]
  },
  {
   "cell_type": "code",
   "execution_count": null,
   "id": "251c4ac7-54b7-4117-b5b4-ed27eda4f8c1",
   "metadata": {},
   "outputs": [],
   "source": []
  }
 ],
 "metadata": {
  "kernelspec": {
   "display_name": "Python 3 (ipykernel)",
   "language": "python",
   "name": "python3"
  },
  "language_info": {
   "codemirror_mode": {
    "name": "ipython",
    "version": 3
   },
   "file_extension": ".py",
   "mimetype": "text/x-python",
   "name": "python",
   "nbconvert_exporter": "python",
   "pygments_lexer": "ipython3",
   "version": "3.12.5"
  }
 },
 "nbformat": 4,
 "nbformat_minor": 5
}
